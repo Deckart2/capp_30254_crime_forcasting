{
 "cells": [
  {
   "cell_type": "markdown",
   "metadata": {},
   "source": [
    "# Compile Beats Dataset"
   ]
  },
  {
   "cell_type": "code",
   "execution_count": 17,
   "metadata": {},
   "outputs": [],
   "source": [
    "#library imports: \n",
    "import numpy as np\n",
    "import pandas as pd\n",
    "import geopandas as gpd\n",
    "import geoplot\n",
    "import libpysal as lp\n",
    "import shapely"
   ]
  },
  {
   "cell_type": "code",
   "execution_count": null,
   "metadata": {},
   "outputs": [],
   "source": []
  },
  {
   "cell_type": "code",
   "execution_count": 18,
   "metadata": {},
   "outputs": [
    {
     "name": "stdout",
     "output_type": "stream",
     "text": [
      "../raw_data/Boundaries - Census Blocks - 2010.geojson EPSG:3435\n"
     ]
    }
   ],
   "source": [
    "#Run helper script to get helper functions\n",
    "%run Geoprocessing.ipynb"
   ]
  },
  {
   "cell_type": "markdown",
   "metadata": {},
   "source": [
    "# Importation and Data Setup:"
   ]
  },
  {
   "cell_type": "code",
   "execution_count": 19,
   "metadata": {},
   "outputs": [
    {
     "name": "stdout",
     "output_type": "stream",
     "text": [
      "../raw_data/Boundaries - Police Beats (current).geojson EPSG:3435\n",
      "../raw_data/CTA_RailStations epsg:3435\n",
      "../raw_data/CTA_BusStops EPSG:3435\n",
      "../raw_data/Metra_Stations epsg:3435\n",
      "../raw_data/Street Center Lines.geojson EPSG:3435\n",
      "../intermediate_data/bus_geog EPSG:3435\n"
     ]
    }
   ],
   "source": [
    "#Read Data\n",
    "beats = read_spatial(\"../raw_data/Boundaries - Police Beats (current).geojson\")\n",
    "l = read_spatial(\"../raw_data/CTA_RailStations\")\n",
    "bus = read_spatial(\"../raw_data/CTA_BusStops\")\n",
    "metra = read_spatial(\"../raw_data/Metra_Stations\")\n",
    "streets = read_spatial(\"../raw_data/Street Center Lines.geojson\")\n",
    "bus_data = read_spatial(\"../intermediate_data/bus_geog\")\n",
    "\n",
    "#Separate business data\n",
    "rest = bus_data[bus_data[\"category\"]==\"restaurant\"]\n",
    "bar = bus_data[bus_data[\"category\"]==\"bar\"]\n",
    "business = bus_data[bus_data[\"category\"]==\"business\"]\n",
    "daycare = bus_data[bus_data[\"category\"]==\"daycare\"]\n",
    "entertainment = bus_data[bus_data[\"category\"]==\"entertainment\"]"
   ]
  },
  {
   "cell_type": "markdown",
   "metadata": {},
   "source": [
    "# Aggregate Point to Beats Data"
   ]
  },
  {
   "cell_type": "code",
   "execution_count": 20,
   "metadata": {},
   "outputs": [],
   "source": [
    "beats = join_to_beats(beats, \"beat_num\", l, \"count_l_stops\")\n",
    "beats = join_to_beats(beats, \"beat_num\", bus, \"count_bus_stops\")\n",
    "beats = join_to_beats(beats, \"beat_num\", metra, \"count_metra_stops\")\n",
    "beats = join_to_beats(beats, \"beat_num\", rest, \"count_restaurants\")\n",
    "beats = join_to_beats(beats, \"beat_num\", bar, \"count_bars\")\n",
    "beats = join_to_beats(beats, \"beat_num\", daycare, \"count_daycares\")\n",
    "beats = join_to_beats(beats, \"beat_num\", entertainment, \"count_entertainment\")\n",
    "beats = join_to_beats(beats, \"beat_num\", business, \"count_businesses\")"
   ]
  },
  {
   "cell_type": "markdown",
   "metadata": {},
   "source": [
    "# Handle Street Data"
   ]
  },
  {
   "cell_type": "code",
   "execution_count": 21,
   "metadata": {},
   "outputs": [],
   "source": [
    "#Filter Out non-pedestrian Streets (ie highways):\n",
    "#Syntax help: https://www.kite.com/python/answers/how-to-filter-a-pandas-dataframe-with-a-list-by-%60in%60-or-%60not-in%60-in-python\n",
    "streets_do_not_want = [\"ER\", \"EXPY\", \"HWY\", \"PKWY\", \"ORD\", \"XR\", \"TOLL\"]\n",
    "street_filter = ~streets.street_typ.isin(streets_do_not_want)\n",
    "streets = streets[street_filter]"
   ]
  },
  {
   "cell_type": "code",
   "execution_count": 22,
   "metadata": {},
   "outputs": [],
   "source": [
    "#Spatial operation to get all strings into exactly one polygon\n",
    "#Help on overlay code here::https://stackoverflow.com/questions/60794994/geopandas-split-lines-at-intersection-with-polygons-retain-polygon-id-in-new\n",
    "#Help with renaming after groupby: https://stackoverflow.com/questions/44416287/renaming-columns-after-group-by-and-sum-in-pandas-dataframe\n",
    "\n",
    "#First: separate line segments so that they fall into exactly one police beat\n",
    "#Second: same spatial join as above\n",
    "#Third: Compute distance (in feet) of each segment\n",
    "#Fourth/Fifth: Keep only the beat_num and distance columns\n",
    "#Sixth:group by beat and sum all distances in the beat\n",
    "#seventh:Add the column with the summarized distances back to the beat dataset\n",
    "\n",
    "\n",
    "streets_separated = gpd.overlay(streets, beats, how=\"union\", keep_geom_type=False).explode().reset_index(drop=True)\n",
    "streets_separated = gpd.sjoin(streets_separated, \n",
    "                             beats[[\"beat_num\", \"geometry\"]], \n",
    "                             how=\"inner\", \n",
    "                             op='intersects')\n",
    "streets_separated[\"distance\"]= streets_separated[\"geometry\"].length\n",
    "streets_separated = streets_separated[[\"beat_num_left\", \"distance\"]]\n",
    "streets_separated.rename(columns={\"beat_num_left\":\"beat_num\"}, inplace=True)\n",
    "streets_separated = streets_separated.groupby(\"beat_num\").sum(\"distance\").reset_index().rename(columns={'distance':'road_distance_ft'})\n",
    "beats = beats.merge(streets_separated, how =\"left\", on=\"beat_num\")"
   ]
  },
  {
   "cell_type": "markdown",
   "metadata": {},
   "source": [
    "# Crosswalk to Beats From Blocks: "
   ]
  },
  {
   "cell_type": "code",
   "execution_count": 29,
   "metadata": {},
   "outputs": [
    {
     "name": "stdout",
     "output_type": "stream",
     "text": [
      "../raw_data/Boundaries - Census Blocks - 2010.geojson EPSG:3435\n"
     ]
    }
   ],
   "source": [
    "#Create Crosswalk From Block to Beat:\n",
    "#Read Block spatial data and population by block\n",
    "#Then join the two\n",
    "blocks = read_spatial(\"../raw_data/Boundaries - Census Blocks - 2010.geojson\")\n",
    "pop_10 = pd.read_csv(\"../raw_data/Population_by_2010_Census_Block.csv\", \n",
    "                     dtype={\"CENSUS BLOCK FULL\":\"object\", \"CENSUS BLOCK\":\"object\"})\n",
    "blocks = blocks.merge(pop_10, left_on=\"geoid10\", right_on=\"CENSUS BLOCK FULL\", how=\"left\")"
   ]
  },
  {
   "cell_type": "code",
   "execution_count": 32,
   "metadata": {},
   "outputs": [],
   "source": [
    "beats = convert_block_to_beat(blocks, \"TOTAL POPULATION\")"
   ]
  },
  {
   "cell_type": "markdown",
   "metadata": {},
   "source": [
    "# Calculate Distance to Nearest:"
   ]
  },
  {
   "cell_type": "code",
   "execution_count": 33,
   "metadata": {},
   "outputs": [],
   "source": [
    "beats[\"centroid\"]=beats.centroid\n",
    "beats = dist_to_nearest(beats, police_station, \"centroid\", \"dist_to_police\")\n",
    "beats = dist_to_nearest(beats, hospital, \"centroid\", \"dist_to_hospital\")"
   ]
  },
  {
   "cell_type": "markdown",
   "metadata": {},
   "source": [
    "# Spatial Lag"
   ]
  },
  {
   "cell_type": "code",
   "execution_count": null,
   "metadata": {},
   "outputs": [],
   "source": [
    "#NEED TO DO THIS once we get crime code"
   ]
  },
  {
   "cell_type": "markdown",
   "metadata": {},
   "source": [
    "# Write Data"
   ]
  },
  {
   "cell_type": "code",
   "execution_count": 34,
   "metadata": {},
   "outputs": [],
   "source": [
    "beats.columns\n",
    "#ADD MORE HERE WHEN WE DO SPATIAL LAG!\n",
    "beats_to_write = beats[['beat', 'beat_num', 'district', 'sector', 'count_l_stops',\n",
    "                'count_bus_stops', 'count_metra_stops', 'count_restaurants',\n",
    "       'count_bars', 'count_daycares', 'count_entertainment',\n",
    "       'count_businesses', 'road_distance_ft', 'TOTAL POPULATION',\n",
    "       'dist_to_police', 'dist_to_hospital']]\n",
    "\n",
    "beats_to_write.to_csv(\"../intermediate_data/beats.csv\")\n",
    "\n"
   ]
  },
  {
   "cell_type": "code",
   "execution_count": 36,
   "metadata": {},
   "outputs": [
    {
     "data": {
      "text/html": [
       "<div>\n",
       "<style scoped>\n",
       "    .dataframe tbody tr th:only-of-type {\n",
       "        vertical-align: middle;\n",
       "    }\n",
       "\n",
       "    .dataframe tbody tr th {\n",
       "        vertical-align: top;\n",
       "    }\n",
       "\n",
       "    .dataframe thead th {\n",
       "        text-align: right;\n",
       "    }\n",
       "</style>\n",
       "<table border=\"1\" class=\"dataframe\">\n",
       "  <thead>\n",
       "    <tr style=\"text-align: right;\">\n",
       "      <th></th>\n",
       "      <th>beat</th>\n",
       "      <th>beat_num</th>\n",
       "      <th>district</th>\n",
       "      <th>sector</th>\n",
       "      <th>count_l_stops</th>\n",
       "      <th>count_bus_stops</th>\n",
       "      <th>count_metra_stops</th>\n",
       "      <th>count_restaurants</th>\n",
       "      <th>count_bars</th>\n",
       "      <th>count_daycares</th>\n",
       "      <th>count_entertainment</th>\n",
       "      <th>count_businesses</th>\n",
       "      <th>road_distance_ft</th>\n",
       "      <th>TOTAL POPULATION</th>\n",
       "      <th>dist_to_police</th>\n",
       "      <th>dist_to_hospital</th>\n",
       "    </tr>\n",
       "  </thead>\n",
       "  <tbody>\n",
       "    <tr>\n",
       "      <th>0</th>\n",
       "      <td>1</td>\n",
       "      <td>1713</td>\n",
       "      <td>17</td>\n",
       "      <td>1</td>\n",
       "      <td>3.0</td>\n",
       "      <td>26.0</td>\n",
       "      <td>0.0</td>\n",
       "      <td>63.0</td>\n",
       "      <td>9.0</td>\n",
       "      <td>6.0</td>\n",
       "      <td>1.0</td>\n",
       "      <td>92.0</td>\n",
       "      <td>169276.405792</td>\n",
       "      <td>13283.675264</td>\n",
       "      <td>5454.068890</td>\n",
       "      <td>3258.006066</td>\n",
       "    </tr>\n",
       "    <tr>\n",
       "      <th>1</th>\n",
       "      <td>0</td>\n",
       "      <td>3100</td>\n",
       "      <td>31</td>\n",
       "      <td>0</td>\n",
       "      <td>0.0</td>\n",
       "      <td>93.0</td>\n",
       "      <td>0.0</td>\n",
       "      <td>0.0</td>\n",
       "      <td>0.0</td>\n",
       "      <td>0.0</td>\n",
       "      <td>0.0</td>\n",
       "      <td>0.0</td>\n",
       "      <td>488603.452752</td>\n",
       "      <td>56.714879</td>\n",
       "      <td>14303.236540</td>\n",
       "      <td>5505.368479</td>\n",
       "    </tr>\n",
       "    <tr>\n",
       "      <th>2</th>\n",
       "      <td>5</td>\n",
       "      <td>1651</td>\n",
       "      <td>16</td>\n",
       "      <td>5</td>\n",
       "      <td>0.0</td>\n",
       "      <td>0.0</td>\n",
       "      <td>0.0</td>\n",
       "      <td>0.0</td>\n",
       "      <td>0.0</td>\n",
       "      <td>0.0</td>\n",
       "      <td>0.0</td>\n",
       "      <td>0.0</td>\n",
       "      <td>24133.489436</td>\n",
       "      <td>0.000000</td>\n",
       "      <td>38726.686536</td>\n",
       "      <td>25868.283862</td>\n",
       "    </tr>\n",
       "    <tr>\n",
       "      <th>3</th>\n",
       "      <td>1</td>\n",
       "      <td>1914</td>\n",
       "      <td>19</td>\n",
       "      <td>1</td>\n",
       "      <td>0.0</td>\n",
       "      <td>43.0</td>\n",
       "      <td>0.0</td>\n",
       "      <td>48.0</td>\n",
       "      <td>6.0</td>\n",
       "      <td>4.0</td>\n",
       "      <td>3.0</td>\n",
       "      <td>76.0</td>\n",
       "      <td>124959.498246</td>\n",
       "      <td>10907.560838</td>\n",
       "      <td>6630.602051</td>\n",
       "      <td>504.915576</td>\n",
       "    </tr>\n",
       "    <tr>\n",
       "      <th>4</th>\n",
       "      <td>1</td>\n",
       "      <td>1915</td>\n",
       "      <td>19</td>\n",
       "      <td>1</td>\n",
       "      <td>0.0</td>\n",
       "      <td>44.0</td>\n",
       "      <td>0.0</td>\n",
       "      <td>25.0</td>\n",
       "      <td>5.0</td>\n",
       "      <td>2.0</td>\n",
       "      <td>2.0</td>\n",
       "      <td>53.0</td>\n",
       "      <td>255537.190832</td>\n",
       "      <td>12773.552374</td>\n",
       "      <td>4192.196166</td>\n",
       "      <td>1499.099104</td>\n",
       "    </tr>\n",
       "    <tr>\n",
       "      <th>...</th>\n",
       "      <td>...</td>\n",
       "      <td>...</td>\n",
       "      <td>...</td>\n",
       "      <td>...</td>\n",
       "      <td>...</td>\n",
       "      <td>...</td>\n",
       "      <td>...</td>\n",
       "      <td>...</td>\n",
       "      <td>...</td>\n",
       "      <td>...</td>\n",
       "      <td>...</td>\n",
       "      <td>...</td>\n",
       "      <td>...</td>\n",
       "      <td>...</td>\n",
       "      <td>...</td>\n",
       "      <td>...</td>\n",
       "    </tr>\n",
       "    <tr>\n",
       "      <th>272</th>\n",
       "      <td>1</td>\n",
       "      <td>0314</td>\n",
       "      <td>03</td>\n",
       "      <td>1</td>\n",
       "      <td>0.0</td>\n",
       "      <td>32.0</td>\n",
       "      <td>1.0</td>\n",
       "      <td>4.0</td>\n",
       "      <td>0.0</td>\n",
       "      <td>2.0</td>\n",
       "      <td>0.0</td>\n",
       "      <td>31.0</td>\n",
       "      <td>146501.114666</td>\n",
       "      <td>6933.302291</td>\n",
       "      <td>6089.593215</td>\n",
       "      <td>3607.271850</td>\n",
       "    </tr>\n",
       "    <tr>\n",
       "      <th>273</th>\n",
       "      <td>2</td>\n",
       "      <td>0825</td>\n",
       "      <td>08</td>\n",
       "      <td>2</td>\n",
       "      <td>0.0</td>\n",
       "      <td>24.0</td>\n",
       "      <td>0.0</td>\n",
       "      <td>25.0</td>\n",
       "      <td>1.0</td>\n",
       "      <td>1.0</td>\n",
       "      <td>0.0</td>\n",
       "      <td>44.0</td>\n",
       "      <td>185910.945625</td>\n",
       "      <td>7765.801732</td>\n",
       "      <td>6275.886974</td>\n",
       "      <td>4468.936600</td>\n",
       "    </tr>\n",
       "    <tr>\n",
       "      <th>274</th>\n",
       "      <td>1</td>\n",
       "      <td>0313</td>\n",
       "      <td>03</td>\n",
       "      <td>1</td>\n",
       "      <td>0.0</td>\n",
       "      <td>29.0</td>\n",
       "      <td>0.0</td>\n",
       "      <td>11.0</td>\n",
       "      <td>0.0</td>\n",
       "      <td>3.0</td>\n",
       "      <td>0.0</td>\n",
       "      <td>26.0</td>\n",
       "      <td>122982.936047</td>\n",
       "      <td>5786.813132</td>\n",
       "      <td>5850.013614</td>\n",
       "      <td>2680.003108</td>\n",
       "    </tr>\n",
       "    <tr>\n",
       "      <th>275</th>\n",
       "      <td>2</td>\n",
       "      <td>0823</td>\n",
       "      <td>08</td>\n",
       "      <td>2</td>\n",
       "      <td>0.0</td>\n",
       "      <td>46.0</td>\n",
       "      <td>0.0</td>\n",
       "      <td>68.0</td>\n",
       "      <td>6.0</td>\n",
       "      <td>6.0</td>\n",
       "      <td>0.0</td>\n",
       "      <td>135.0</td>\n",
       "      <td>293583.479638</td>\n",
       "      <td>22290.925549</td>\n",
       "      <td>333.560711</td>\n",
       "      <td>5770.857541</td>\n",
       "    </tr>\n",
       "    <tr>\n",
       "      <th>276</th>\n",
       "      <td>1</td>\n",
       "      <td>0312</td>\n",
       "      <td>03</td>\n",
       "      <td>1</td>\n",
       "      <td>2.0</td>\n",
       "      <td>32.0</td>\n",
       "      <td>0.0</td>\n",
       "      <td>14.0</td>\n",
       "      <td>1.0</td>\n",
       "      <td>3.0</td>\n",
       "      <td>1.0</td>\n",
       "      <td>38.0</td>\n",
       "      <td>200633.844449</td>\n",
       "      <td>4144.689546</td>\n",
       "      <td>4843.037238</td>\n",
       "      <td>4374.482421</td>\n",
       "    </tr>\n",
       "  </tbody>\n",
       "</table>\n",
       "<p>277 rows × 16 columns</p>\n",
       "</div>"
      ],
      "text/plain": [
       "    beat beat_num district sector  count_l_stops  count_bus_stops  \\\n",
       "0      1     1713       17      1            3.0             26.0   \n",
       "1      0     3100       31      0            0.0             93.0   \n",
       "2      5     1651       16      5            0.0              0.0   \n",
       "3      1     1914       19      1            0.0             43.0   \n",
       "4      1     1915       19      1            0.0             44.0   \n",
       "..   ...      ...      ...    ...            ...              ...   \n",
       "272    1     0314       03      1            0.0             32.0   \n",
       "273    2     0825       08      2            0.0             24.0   \n",
       "274    1     0313       03      1            0.0             29.0   \n",
       "275    2     0823       08      2            0.0             46.0   \n",
       "276    1     0312       03      1            2.0             32.0   \n",
       "\n",
       "     count_metra_stops  count_restaurants  count_bars  count_daycares  \\\n",
       "0                  0.0               63.0         9.0             6.0   \n",
       "1                  0.0                0.0         0.0             0.0   \n",
       "2                  0.0                0.0         0.0             0.0   \n",
       "3                  0.0               48.0         6.0             4.0   \n",
       "4                  0.0               25.0         5.0             2.0   \n",
       "..                 ...                ...         ...             ...   \n",
       "272                1.0                4.0         0.0             2.0   \n",
       "273                0.0               25.0         1.0             1.0   \n",
       "274                0.0               11.0         0.0             3.0   \n",
       "275                0.0               68.0         6.0             6.0   \n",
       "276                0.0               14.0         1.0             3.0   \n",
       "\n",
       "     count_entertainment  count_businesses  road_distance_ft  \\\n",
       "0                    1.0              92.0     169276.405792   \n",
       "1                    0.0               0.0     488603.452752   \n",
       "2                    0.0               0.0      24133.489436   \n",
       "3                    3.0              76.0     124959.498246   \n",
       "4                    2.0              53.0     255537.190832   \n",
       "..                   ...               ...               ...   \n",
       "272                  0.0              31.0     146501.114666   \n",
       "273                  0.0              44.0     185910.945625   \n",
       "274                  0.0              26.0     122982.936047   \n",
       "275                  0.0             135.0     293583.479638   \n",
       "276                  1.0              38.0     200633.844449   \n",
       "\n",
       "     TOTAL POPULATION  dist_to_police  dist_to_hospital  \n",
       "0        13283.675264     5454.068890       3258.006066  \n",
       "1           56.714879    14303.236540       5505.368479  \n",
       "2            0.000000    38726.686536      25868.283862  \n",
       "3        10907.560838     6630.602051        504.915576  \n",
       "4        12773.552374     4192.196166       1499.099104  \n",
       "..                ...             ...               ...  \n",
       "272       6933.302291     6089.593215       3607.271850  \n",
       "273       7765.801732     6275.886974       4468.936600  \n",
       "274       5786.813132     5850.013614       2680.003108  \n",
       "275      22290.925549      333.560711       5770.857541  \n",
       "276       4144.689546     4843.037238       4374.482421  \n",
       "\n",
       "[277 rows x 16 columns]"
      ]
     },
     "execution_count": 36,
     "metadata": {},
     "output_type": "execute_result"
    }
   ],
   "source": []
  }
 ],
 "metadata": {
  "kernelspec": {
   "display_name": "Python 3",
   "language": "python",
   "name": "python3"
  },
  "language_info": {
   "codemirror_mode": {
    "name": "ipython",
    "version": 3
   },
   "file_extension": ".py",
   "mimetype": "text/x-python",
   "name": "python",
   "nbconvert_exporter": "python",
   "pygments_lexer": "ipython3",
   "version": "3.8.5"
  }
 },
 "nbformat": 4,
 "nbformat_minor": 4
}
