{
 "cells": [
  {
   "cell_type": "code",
   "execution_count": 13,
   "metadata": {},
   "outputs": [
    {
     "name": "stderr",
     "output_type": "stream",
     "text": [
      "<ipython-input-13-d461313ff31a>:50: SettingWithCopyWarning: \n",
      "A value is trying to be set on a copy of a slice from a DataFrame.\n",
      "Try using .loc[row_indexer,col_indexer] = value instead\n",
      "\n",
      "See the caveats in the documentation: https://pandas.pydata.org/pandas-docs/stable/user_guide/indexing.html#returning-a-view-versus-a-copy\n",
      "  bus_geog[\"Latitude\"]= bus_geog[\"Latitude\"].str[1:].astype(\"float\")\n",
      "<ipython-input-13-d461313ff31a>:51: SettingWithCopyWarning: \n",
      "A value is trying to be set on a copy of a slice from a DataFrame.\n",
      "Try using .loc[row_indexer,col_indexer] = value instead\n",
      "\n",
      "See the caveats in the documentation: https://pandas.pydata.org/pandas-docs/stable/user_guide/indexing.html#returning-a-view-versus-a-copy\n",
      "  bus_geog[\"Longitude\"]= bus_geog[\"Longitude\"].str[:-1].astype(\"float\")\n"
     ]
    }
   ],
   "source": [
    "import numpy as np\n",
    "import pandas as pd\n",
    "import geopandas as gpd\n",
    "\n",
    "#Next Task: Clean, Aggregate businesses#Read businesses:\n",
    "bus_first = pd.read_csv(\"../raw_data/Business_Licenses_-_Current_Active.csv\")\n",
    "\n",
    "\n",
    "#Select only Chicago/Illinois businesses\n",
    "bus = bus_first[bus_first.CITY==\"CHICAGO\"]\n",
    "\n",
    "#Remove non-relevant columns\n",
    "bus = bus[[\"LICENSE ID\", \"DOING BUSINESS AS NAME\", \n",
    "           \"ADDRESS\", \"CITY\", \"STATE\", \"ZIP CODE\", \n",
    "          \"LICENSE CODE\", \"LICENSE DESCRIPTION\", \"LOCATION\"]]\n",
    "\n",
    "bus[\"LICENSE DESCRIPTION\"].value_counts()\n",
    "\n",
    "#Create our own labels for categories:\n",
    "#isin syntax help from here: https://stackoverflow.com/questions/18250298/how-to-check-if-a-value-is-in-the-list-in-selection-from-pandas-data-frame\n",
    "#np structure help frum here: https://www.dataquest.io/blog/tutorial-add-column-pandas-dataframe-based-on-if-else-condition/\n",
    "conditions = [\n",
    "    (bus[\"LICENSE DESCRIPTION\"].isin([\"Limited Business License\", \n",
    "                                   \"Regulated Business License\"])), \n",
    "    (bus[\"LICENSE DESCRIPTION\"].isin([\"Consumption on Premises - Incidental Activity\", \n",
    "                                    \"Tavern\", \"Late Hour\"])), \n",
    "    (bus[\"LICENSE DESCRIPTION\"] == \"Retail Food Establishment\"), \n",
    "    (bus[\"LICENSE DESCRIPTION\"] == \"Children's Services Facility License\"), \n",
    "    (bus[\"LICENSE DESCRIPTION\"].isin([\"Public Place of Amusement\", \n",
    "                                    \"Music and Dance\", \n",
    "                                    \"Wrigley Field\"]))\n",
    "]\n",
    "values = [\"business\", \"bar\", \"restaurant\", \"daycare\", \"entertainment\"]\n",
    "bus[\"category\"] = np.select(conditions, values)\n",
    "\n",
    "#Select only businesses with those categories:\n",
    "bus = bus[bus.category != \"0\"]\n",
    "\n",
    "#Separate by geography\n",
    "#notnull() idea: https://stackoverflow.com/questions/22551403/python-pandas-filtering-out-nan-from-a-data-selection-of-a-column-of-strings\n",
    "bus_geog = bus[bus.LOCATION.notnull()]\n",
    "bus_geog.head(2)\n",
    "\n",
    "#Convert bus_geog to gpd\n",
    "\n",
    "#Help from: https://www.geeksforgeeks.org/split-a-text-column-into-two-columns-in-pandas-dataframe/\n",
    "#Help from: https://stackoverflow.com/questions/42349572/remove-first-x-number-of-characters-from-each-row-in-a-column-of-a-python-datafr\n",
    "bus_geog\n",
    "bus_geog[['Latitude','Longitude']] = bus_geog.LOCATION.str.split(\",\",expand=True)\n",
    "bus_geog[\"Latitude\"]= bus_geog[\"Latitude\"].str[1:].astype(\"float\")\n",
    "bus_geog[\"Longitude\"]= bus_geog[\"Longitude\"].str[:-1].astype(\"float\")\n",
    "bus_geog = gpd.GeoDataFrame(bus_geog, \n",
    "                            geometry=gpd.points_from_xy(bus_geog.Longitude, \n",
    "                                                        bus_geog.Latitude))\n",
    "bus_geog = bus_geog.set_crs(\"EPSG:3435\")\n",
    "bus_geog = bus_geog.to_crs(\"EPSG:3435\")\n",
    "bus_geog = bus_geog.to_crs(\"EPSG:4326\")\n",
    "\n"
   ]
  },
  {
   "cell_type": "code",
   "execution_count": 14,
   "metadata": {},
   "outputs": [],
   "source": [
    "bus_geog = bus_geog[[\"LICENSE ID\", \"DOING BUSINESS AS NAME\", \"category\", \"geometry\"]]"
   ]
  },
  {
   "cell_type": "code",
   "execution_count": 15,
   "metadata": {},
   "outputs": [
    {
     "name": "stderr",
     "output_type": "stream",
     "text": [
      "<ipython-input-15-cf47314ed036>:1: UserWarning: Column names longer than 10 characters will be truncated when saved to ESRI Shapefile.\n",
      "  bus_geog.to_file(\"../intermediate_data/bus_geog.geojson\")\n"
     ]
    }
   ],
   "source": [
    "bus_geog.to_file(\"../intermediate_data/bus_geog.geojson\")\n"
   ]
  },
  {
   "cell_type": "code",
   "execution_count": null,
   "metadata": {},
   "outputs": [],
   "source": []
  },
  {
   "cell_type": "code",
   "execution_count": 6,
   "metadata": {},
   "outputs": [
    {
     "data": {
      "text/plain": [
       "business         30122\n",
       "restaurant       12845\n",
       "bar               4112\n",
       "daycare            965\n",
       "entertainment      897\n",
       "Name: category, dtype: int64"
      ]
     },
     "execution_count": 6,
     "metadata": {},
     "output_type": "execute_result"
    }
   ],
   "source": [
    "bus_geog[\"category\"].value_counts()"
   ]
  }
 ],
 "metadata": {
  "kernelspec": {
   "display_name": "Python 3",
   "language": "python",
   "name": "python3"
  },
  "language_info": {
   "codemirror_mode": {
    "name": "ipython",
    "version": 3
   },
   "file_extension": ".py",
   "mimetype": "text/x-python",
   "name": "python",
   "nbconvert_exporter": "python",
   "pygments_lexer": "ipython3",
   "version": "3.8.5"
  }
 },
 "nbformat": 4,
 "nbformat_minor": 4
}
