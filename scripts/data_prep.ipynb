{
 "cells": [
  {
   "cell_type": "markdown",
   "metadata": {},
   "source": [
    "# DB Project, data prep #1\n",
    "\n",
    "## Feature Generation, Data Merging"
   ]
  },
  {
   "cell_type": "code",
   "execution_count": 1,
   "metadata": {},
   "outputs": [],
   "source": [
    "# Importing relevant packages, loading relevant data.\n",
    "\n",
    "import numpy as np\n",
    "import pandas as pd\n",
    "import geopandas as gpd\n",
    "from geopandas import GeoDataFrame\n",
    "from shapely.geometry import Point\n",
    "import warnings\n",
    "warnings.filterwarnings('ignore')\n",
    "\n",
    "crime_df = pd.read_csv('../raw_data/Crimes_-_2015_to_Present.csv')\n",
    "crime_class_df = pd.read_csv('../raw_data/Crimes_classes.csv')\n",
    "beats_df = pd.read_csv('../intermediate_data/beats.csv')\n",
    "weather_df = pd.read_csv('../raw_data/weather_2015-2020.csv')"
   ]
  },
  {
   "cell_type": "code",
   "execution_count": 2,
   "metadata": {},
   "outputs": [],
   "source": [
    "# Transforming crime data to datetime, indexing by such, limiting data to 2015-2020.\n",
    "\n",
    "crime_df['Date'] = pd.to_datetime(crime_df['Date'])\n",
    "crime_df = crime_df.set_index('Date')\n",
    "crime_df = crime_df['20150101' : '20201231']"
   ]
  },
  {
   "cell_type": "code",
   "execution_count": 3,
   "metadata": {
    "scrolled": true
   },
   "outputs": [],
   "source": [
    "# Creating features for month, week of the current year, day of the week, and hour of day .\n",
    "\n",
    "crime_df['Month'] = crime_df.index.month\n",
    "crime_df['Week'] = crime_df.index.week\n",
    "crime_df['Day'] = crime_df.index.day\n",
    "crime_df['Hour'] = crime_df.index.hour\n",
    "\n",
    "def find_watch(n):\n",
    "    if 0 <= n < 8:\n",
    "        return 'First'\n",
    "    elif 8 <= n < 16:\n",
    "        return 'Second'\n",
    "    elif 16 <= n:\n",
    "        return 'Third'\n",
    "        \n",
    "\n",
    "crime_df['Watch'] = crime_df['Hour'].apply(find_watch)\n",
    "\n",
    "crime_df.index = crime_df.index.date"
   ]
  },
  {
   "cell_type": "code",
   "execution_count": 4,
   "metadata": {},
   "outputs": [],
   "source": [
    "# Dropping non-criminal reports\n",
    "\n",
    "crime_df = crime_df[~crime_df['IUCR'].isin(['5073', '5093', '5094', '5113', '5114'])]"
   ]
  },
  {
   "cell_type": "code",
   "execution_count": 5,
   "metadata": {},
   "outputs": [],
   "source": [
    "# Transforming weather data to datetime, indexing by such.\n",
    "\n",
    "weather_df['Date'] = pd.to_datetime(weather_df['DATE'])\n",
    "weather_df = weather_df.set_index('Date')"
   ]
  },
  {
   "cell_type": "code",
   "execution_count": 6,
   "metadata": {
    "scrolled": true
   },
   "outputs": [],
   "source": [
    "# Merging weather data to crime data.\n",
    "\n",
    "crime_df = pd.merge(crime_df, weather_df, how = 'left', left_index = True, right_index = True)"
   ]
  },
  {
   "cell_type": "code",
   "execution_count": 7,
   "metadata": {},
   "outputs": [],
   "source": [
    "# Saving total tempral data for analysis\n",
    "\n",
    "crime_df.to_csv(\"../intermediate_data/df_temporal_to_graph.csv\")"
   ]
  },
  {
   "cell_type": "code",
   "execution_count": 8,
   "metadata": {},
   "outputs": [],
   "source": [
    "# Preparing crime classes to merge into crime data, and merging.\n",
    "\n",
    "for index, row in crime_class_df.iterrows():\n",
    "    if len(row['crime_id']) == 3:\n",
    "        row['crime_id'] = '0' + row['crime_id']\n",
    "\n",
    "crime_df = pd.merge(crime_df, crime_class_df, how = 'left', left_on = 'IUCR', right_on = 'crime_id')        "
   ]
  },
  {
   "cell_type": "code",
   "execution_count": 9,
   "metadata": {},
   "outputs": [],
   "source": [
    "# Merging beat data to crime data.  \n",
    "\n",
    "crime_df = pd.merge(crime_df, beats_df, how = 'left', left_on = 'Beat', right_on = 'beat_num')"
   ]
  },
  {
   "cell_type": "code",
   "execution_count": 11,
   "metadata": {},
   "outputs": [],
   "source": [
    "crime_df.loc[crime_df.category_1 == 'serious', 'serious'] = 1\n",
    "crime_df.serious.fillna(0, inplace=True)"
   ]
  },
  {
   "cell_type": "code",
   "execution_count": 12,
   "metadata": {},
   "outputs": [],
   "source": [
    "# Dropping undesired features.\n",
    "\n",
    "col_list = ['ID','Arrest', 'Domestic', 'Beat', 'Year', 'Month', 'Watch', \n",
    "            'PRCP', 'SNOW','TMAX', 'TMIN', 'serious']\n",
    "\n",
    "df_filtered = crime_df.filter(col_list)"
   ]
  },
  {
   "cell_type": "code",
   "execution_count": 13,
   "metadata": {},
   "outputs": [],
   "source": [
    "groups = df_filtered[['Year','Month','Watch','Beat']]"
   ]
  },
  {
   "cell_type": "code",
   "execution_count": 14,
   "metadata": {},
   "outputs": [],
   "source": [
    "groups = groups.merge(df_filtered.groupby(['Year','Month', 'Watch','Beat'])['ID'].count().reset_index()).drop_duplicates()\n",
    "\n",
    "groups = groups.merge(df_filtered.groupby(['Year','Month', 'Watch','Beat'])['serious'].sum().reset_index())\n",
    "groups = groups.merge(df_filtered.groupby(['Year','Month', 'Watch','Beat'])['Arrest'].sum().reset_index())\n",
    "groups = groups.merge(df_filtered.groupby(['Year','Month', 'Watch','Beat'])['Domestic'].sum().reset_index())\n",
    "groups = groups.merge(df_filtered.groupby(['Year','Month', 'Watch','Beat'])['TMAX'].mean().reset_index())\n",
    "groups = groups.merge(df_filtered.groupby(['Year','Month', 'Watch','Beat'])['TMIN'].mean().reset_index())\n",
    "groups = groups.merge(df_filtered.groupby(['Year','Month', 'Watch','Beat'])['PRCP'].mean().reset_index())\n",
    "groups = groups.merge(df_filtered.groupby(['Year','Month', 'Watch','Beat'])['SNOW'].mean().reset_index())\n",
    "\n",
    "groups.rename({'ID':'Total', 'serious':'Serious'}, axis=1, inplace=True)"
   ]
  },
  {
   "cell_type": "code",
   "execution_count": 15,
   "metadata": {},
   "outputs": [],
   "source": [
    "groups['rank'] = groups.groupby(['Year','Month'])['Serious'].rank(pct=True)\n",
    "groups.loc[groups['rank'] > .75, \"high_crime\"] = 1\n",
    "groups['high_crime'].fillna(0, inplace=True)\n",
    "groups.drop('rank', axis = 1, inplace=True)"
   ]
  },
  {
   "cell_type": "code",
   "execution_count": 16,
   "metadata": {},
   "outputs": [],
   "source": [
    "# Merging beat data to crime data.  \n",
    "\n",
    "crime_df = pd.merge(groups, beats_df, how = 'left', left_on = 'Beat', right_on = 'beat_num')"
   ]
  },
  {
   "cell_type": "code",
   "execution_count": 17,
   "metadata": {},
   "outputs": [],
   "source": [
    "crime_df.drop([\"Unnamed: 0\", 'beat'], axis=1, inplace=True)"
   ]
  },
  {
   "cell_type": "code",
   "execution_count": 18,
   "metadata": {},
   "outputs": [
    {
     "name": "stdout",
     "output_type": "stream",
     "text": [
      "<class 'pandas.core.frame.DataFrame'>\n",
      "Int64Index: 59093 entries, 0 to 59092\n",
      "Data columns (total 28 columns):\n",
      " #   Column               Non-Null Count  Dtype  \n",
      "---  ------               --------------  -----  \n",
      " 0   Year                 59093 non-null  int64  \n",
      " 1   Month                59093 non-null  int64  \n",
      " 2   Watch                59093 non-null  object \n",
      " 3   Beat                 59093 non-null  int64  \n",
      " 4   Total                59093 non-null  int64  \n",
      " 5   Serious              59093 non-null  float64\n",
      " 6   Arrest               59093 non-null  int64  \n",
      " 7   Domestic             59093 non-null  int64  \n",
      " 8   TMAX                 59093 non-null  float64\n",
      " 9   TMIN                 59093 non-null  float64\n",
      " 10  PRCP                 59093 non-null  float64\n",
      " 11  SNOW                 59093 non-null  float64\n",
      " 12  high_crime           59093 non-null  float64\n",
      " 13  beat_num             59093 non-null  int64  \n",
      " 14  district             59093 non-null  int64  \n",
      " 15  sector               59093 non-null  int64  \n",
      " 16  count_l_stops        59093 non-null  float64\n",
      " 17  count_bus_stops      59093 non-null  float64\n",
      " 18  count_metra_stops    59093 non-null  float64\n",
      " 19  count_restaurants    59093 non-null  float64\n",
      " 20  count_bars           59093 non-null  float64\n",
      " 21  count_daycares       59093 non-null  float64\n",
      " 22  count_entertainment  59093 non-null  float64\n",
      " 23  count_businesses     59093 non-null  float64\n",
      " 24  road_distance_ft     59093 non-null  float64\n",
      " 25  TOTAL POPULATION     59093 non-null  float64\n",
      " 26  dist_to_police       59093 non-null  float64\n",
      " 27  dist_to_hospital     59093 non-null  float64\n",
      "dtypes: float64(18), int64(9), object(1)\n",
      "memory usage: 13.1+ MB\n"
     ]
    }
   ],
   "source": [
    "crime_df.info()"
   ]
  },
  {
   "cell_type": "code",
   "execution_count": 19,
   "metadata": {},
   "outputs": [
    {
     "name": "stdout",
     "output_type": "stream",
     "text": [
      "../raw_data/Boundaries - Police Beats (current).geojson EPSG:3435\n",
      "../raw_data/Boundaries - Census Blocks - 2010.geojson EPSG:3435\n"
     ]
    }
   ],
   "source": [
    "%run geoprocessing_helpers.ipynb"
   ]
  },
  {
   "cell_type": "code",
   "execution_count": 20,
   "metadata": {},
   "outputs": [],
   "source": [
    "beats = gpd.read_file(\"../raw_data/Boundaries - Police Beats (current).geojson\")"
   ]
  },
  {
   "cell_type": "code",
   "execution_count": 21,
   "metadata": {},
   "outputs": [],
   "source": [
    "crime_df[\"Beat\"]=crime_df[\"Beat\"].astype(\"string\")\n",
    "crime_df[\"Beat\"] =crime_df[\"Beat\"].str.zfill(4)"
   ]
  },
  {
   "cell_type": "code",
   "execution_count": 22,
   "metadata": {},
   "outputs": [],
   "source": [
    "crime_data = beats.merge(crime_df, left_on=\"beat_num\", right_on=\"Beat\")"
   ]
  },
  {
   "cell_type": "code",
   "execution_count": 23,
   "metadata": {},
   "outputs": [],
   "source": [
    "crime_data = compute_spatial_lag(crime_data, \"high_crime\", \n",
    "                                 \"high_crime_geog_lag\", \n",
    "                                 \"Year\")"
   ]
  },
  {
   "cell_type": "code",
   "execution_count": 24,
   "metadata": {},
   "outputs": [],
   "source": [
    "# Saving aggregate geospatial data for analysis\n",
    "\n",
    "crime_data.to_csv(\"../intermediate_data/df_geospatial_to_graph.csv\")"
   ]
  },
  {
   "cell_type": "code",
   "execution_count": 25,
   "metadata": {},
   "outputs": [],
   "source": [
    "crime_data.drop(columns = \"geometry\", axis=0, inplace=True)"
   ]
  },
  {
   "cell_type": "code",
   "execution_count": 27,
   "metadata": {},
   "outputs": [],
   "source": [
    "crime_data.to_csv(\"../intermediate_data/high_crime_labeled.csv\")"
   ]
  }
 ],
 "metadata": {
  "kernelspec": {
   "display_name": "Python 3",
   "language": "python",
   "name": "python3"
  },
  "language_info": {
   "codemirror_mode": {
    "name": "ipython",
    "version": 3
   },
   "file_extension": ".py",
   "mimetype": "text/x-python",
   "name": "python",
   "nbconvert_exporter": "python",
   "pygments_lexer": "ipython3",
   "version": "3.8.5"
  }
 },
 "nbformat": 4,
 "nbformat_minor": 4
}
