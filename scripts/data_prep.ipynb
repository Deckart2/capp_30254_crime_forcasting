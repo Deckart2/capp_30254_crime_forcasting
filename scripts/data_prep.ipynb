{
 "cells": [
  {
   "cell_type": "markdown",
   "metadata": {},
   "source": [
    "# DB Project, data prep #1\n",
    "\n",
    "## Feature Generation, Data Merging"
   ]
  },
  {
   "cell_type": "code",
   "execution_count": 1,
   "metadata": {},
   "outputs": [],
   "source": [
    "# Importing relevant packages, loading relevant data.\n",
    "\n",
    "import numpy as np\n",
    "import pandas as pd\n",
    "import geopandas as gpd\n",
    "from geopandas import GeoDataFrame\n",
    "from shapely.geometry import Point\n",
    "import warnings\n",
    "warnings.filterwarnings('ignore')\n",
    "\n",
    "crime_df = pd.read_csv('../raw_data/Crimes_-_2015_to_Present.csv')\n",
    "crime_class_df = pd.read_csv('../raw_data/Crimes_classes.csv')\n",
    "beats_df = pd.read_csv('../intermediate_data/beats.csv')\n",
    "weather_df = pd.read_csv('../raw_data/weather_2015-2020.csv')"
   ]
  },
  {
   "cell_type": "code",
   "execution_count": 2,
   "metadata": {},
   "outputs": [],
   "source": [
    "# Transforming crime data to datetime, indexing by such, limiting data to 2015-2020.\n",
    "\n",
    "crime_df['Date'] = pd.to_datetime(crime_df['Date'])\n",
    "crime_df = crime_df.set_index('Date')\n",
    "crime_df = crime_df['20150101' : '20201231']"
   ]
  },
  {
   "cell_type": "code",
   "execution_count": 3,
   "metadata": {
    "scrolled": true
   },
   "outputs": [],
   "source": [
    "# Creating features for month, week of the current year, day of the week, and hour of day .\n",
    "\n",
    "crime_df['Month'] = crime_df.index.month\n",
    "crime_df['Week'] = crime_df.index.week\n",
    "crime_df['Day'] = crime_df.index.day\n",
    "crime_df['Hour'] = crime_df.index.hour\n",
    "\n",
    "def find_watch(n):\n",
    "    if 0 <= n < 8:\n",
    "        return 'First'\n",
    "    elif 8 <= n < 16:\n",
    "        return 'Second'\n",
    "    elif 16 <= n:\n",
    "        return 'Third'\n",
    "        \n",
    "\n",
    "crime_df['Watch'] = crime_df['Hour'].apply(find_watch)\n",
    "\n",
    "crime_df.index = crime_df.index.date"
   ]
  },
  {
   "cell_type": "code",
   "execution_count": 4,
   "metadata": {},
   "outputs": [],
   "source": [
    "# Dropping non-criminal reports\n",
    "\n",
    "crime_df = crime_df[~crime_df['IUCR'].isin(['5073', '5093', '5094', '5113', '5114'])]"
   ]
  },
  {
   "cell_type": "code",
   "execution_count": 5,
   "metadata": {},
   "outputs": [],
   "source": [
    "# Transforming weather data to datetime, indexing by such.\n",
    "\n",
    "weather_df['Date'] = pd.to_datetime(weather_df['DATE'])\n",
    "weather_df = weather_df.set_index('Date')"
   ]
  },
  {
   "cell_type": "code",
   "execution_count": 6,
   "metadata": {
    "scrolled": true
   },
   "outputs": [],
   "source": [
    "# Merging weather data to crime data.\n",
    "\n",
    "crime_df = pd.merge(crime_df, weather_df, how = 'left', left_index = True, right_index = True)"
   ]
  },
  {
   "cell_type": "code",
   "execution_count": 7,
   "metadata": {},
   "outputs": [],
   "source": [
    "# Saving total tempral data for analysis\n",
    "\n",
    "crime_df.to_csv(\"../intermediate_data/df_temporal_to_graph.csv\")"
   ]
  },
  {
   "cell_type": "code",
   "execution_count": 8,
   "metadata": {},
   "outputs": [],
   "source": [
    "# Preparing crime classes to merge into crime data, and merging.\n",
    "\n",
    "for index, row in crime_class_df.iterrows():\n",
    "    if len(row['crime_id']) == 3:\n",
    "        row['crime_id'] = '0' + row['crime_id']\n",
    "\n",
    "crime_df = pd.merge(crime_df, crime_class_df, how = 'left', left_on = 'IUCR', right_on = 'crime_id')        "
   ]
  },
  {
   "cell_type": "code",
   "execution_count": 9,
   "metadata": {},
   "outputs": [],
   "source": [
    "# Merging beat data to crime data.  \n",
    "\n",
    "crime_df = pd.merge(crime_df, beats_df, how = 'left', left_on = 'Beat', right_on = 'beat_num')"
   ]
  },
  {
   "cell_type": "code",
   "execution_count": 10,
   "metadata": {},
   "outputs": [],
   "source": [
    "crime_df.loc[crime_df.category_1 == 'serious', 'serious'] = 1\n",
    "crime_df.serious.fillna(0, inplace=True)"
   ]
  },
  {
   "cell_type": "code",
   "execution_count": 11,
   "metadata": {},
   "outputs": [],
   "source": [
    "# Dropping undesired features.\n",
    "\n",
    "col_list = ['ID','Arrest', 'Domestic', 'Beat', 'Year', 'Month', 'Watch', \n",
    "            'PRCP', 'SNOW','TMAX', 'TMIN', 'serious']\n",
    "\n",
    "df_filtered = crime_df.filter(col_list)"
   ]
  },
  {
   "cell_type": "code",
   "execution_count": 12,
   "metadata": {},
   "outputs": [
    {
     "data": {
      "text/html": [
       "<div>\n",
       "<style scoped>\n",
       "    .dataframe tbody tr th:only-of-type {\n",
       "        vertical-align: middle;\n",
       "    }\n",
       "\n",
       "    .dataframe tbody tr th {\n",
       "        vertical-align: top;\n",
       "    }\n",
       "\n",
       "    .dataframe thead th {\n",
       "        text-align: right;\n",
       "    }\n",
       "</style>\n",
       "<table border=\"1\" class=\"dataframe\">\n",
       "  <thead>\n",
       "    <tr style=\"text-align: right;\">\n",
       "      <th></th>\n",
       "      <th>ID</th>\n",
       "      <th>Arrest</th>\n",
       "      <th>Domestic</th>\n",
       "      <th>Beat</th>\n",
       "      <th>Year</th>\n",
       "      <th>Month</th>\n",
       "      <th>Watch</th>\n",
       "      <th>PRCP</th>\n",
       "      <th>SNOW</th>\n",
       "      <th>TMAX</th>\n",
       "      <th>TMIN</th>\n",
       "      <th>serious</th>\n",
       "    </tr>\n",
       "  </thead>\n",
       "  <tbody>\n",
       "    <tr>\n",
       "      <th>0</th>\n",
       "      <td>10225520</td>\n",
       "      <td>False</td>\n",
       "      <td>False</td>\n",
       "      <td>411</td>\n",
       "      <td>2015</td>\n",
       "      <td>1</td>\n",
       "      <td>First</td>\n",
       "      <td>0.0</td>\n",
       "      <td>0.0</td>\n",
       "      <td>32</td>\n",
       "      <td>17</td>\n",
       "      <td>1.0</td>\n",
       "    </tr>\n",
       "    <tr>\n",
       "      <th>1</th>\n",
       "      <td>11028448</td>\n",
       "      <td>True</td>\n",
       "      <td>True</td>\n",
       "      <td>1532</td>\n",
       "      <td>2015</td>\n",
       "      <td>1</td>\n",
       "      <td>First</td>\n",
       "      <td>0.0</td>\n",
       "      <td>0.0</td>\n",
       "      <td>32</td>\n",
       "      <td>17</td>\n",
       "      <td>1.0</td>\n",
       "    </tr>\n",
       "    <tr>\n",
       "      <th>2</th>\n",
       "      <td>10225760</td>\n",
       "      <td>False</td>\n",
       "      <td>False</td>\n",
       "      <td>2024</td>\n",
       "      <td>2015</td>\n",
       "      <td>1</td>\n",
       "      <td>First</td>\n",
       "      <td>0.0</td>\n",
       "      <td>0.0</td>\n",
       "      <td>32</td>\n",
       "      <td>17</td>\n",
       "      <td>1.0</td>\n",
       "    </tr>\n",
       "    <tr>\n",
       "      <th>3</th>\n",
       "      <td>11242929</td>\n",
       "      <td>False</td>\n",
       "      <td>False</td>\n",
       "      <td>223</td>\n",
       "      <td>2015</td>\n",
       "      <td>1</td>\n",
       "      <td>First</td>\n",
       "      <td>0.0</td>\n",
       "      <td>0.0</td>\n",
       "      <td>32</td>\n",
       "      <td>17</td>\n",
       "      <td>1.0</td>\n",
       "    </tr>\n",
       "    <tr>\n",
       "      <th>4</th>\n",
       "      <td>10229179</td>\n",
       "      <td>False</td>\n",
       "      <td>False</td>\n",
       "      <td>214</td>\n",
       "      <td>2015</td>\n",
       "      <td>1</td>\n",
       "      <td>First</td>\n",
       "      <td>0.0</td>\n",
       "      <td>0.0</td>\n",
       "      <td>32</td>\n",
       "      <td>17</td>\n",
       "      <td>1.0</td>\n",
       "    </tr>\n",
       "    <tr>\n",
       "      <th>...</th>\n",
       "      <td>...</td>\n",
       "      <td>...</td>\n",
       "      <td>...</td>\n",
       "      <td>...</td>\n",
       "      <td>...</td>\n",
       "      <td>...</td>\n",
       "      <td>...</td>\n",
       "      <td>...</td>\n",
       "      <td>...</td>\n",
       "      <td>...</td>\n",
       "      <td>...</td>\n",
       "      <td>...</td>\n",
       "    </tr>\n",
       "    <tr>\n",
       "      <th>1542399</th>\n",
       "      <td>12259610</td>\n",
       "      <td>False</td>\n",
       "      <td>False</td>\n",
       "      <td>322</td>\n",
       "      <td>2020</td>\n",
       "      <td>12</td>\n",
       "      <td>Third</td>\n",
       "      <td>0.0</td>\n",
       "      <td>0.0</td>\n",
       "      <td>30</td>\n",
       "      <td>23</td>\n",
       "      <td>0.0</td>\n",
       "    </tr>\n",
       "    <tr>\n",
       "      <th>1542400</th>\n",
       "      <td>12263896</td>\n",
       "      <td>False</td>\n",
       "      <td>False</td>\n",
       "      <td>223</td>\n",
       "      <td>2020</td>\n",
       "      <td>12</td>\n",
       "      <td>Third</td>\n",
       "      <td>0.0</td>\n",
       "      <td>0.0</td>\n",
       "      <td>30</td>\n",
       "      <td>23</td>\n",
       "      <td>1.0</td>\n",
       "    </tr>\n",
       "    <tr>\n",
       "      <th>1542401</th>\n",
       "      <td>12274737</td>\n",
       "      <td>False</td>\n",
       "      <td>False</td>\n",
       "      <td>114</td>\n",
       "      <td>2020</td>\n",
       "      <td>12</td>\n",
       "      <td>Third</td>\n",
       "      <td>0.0</td>\n",
       "      <td>0.0</td>\n",
       "      <td>30</td>\n",
       "      <td>23</td>\n",
       "      <td>1.0</td>\n",
       "    </tr>\n",
       "    <tr>\n",
       "      <th>1542402</th>\n",
       "      <td>12258658</td>\n",
       "      <td>False</td>\n",
       "      <td>False</td>\n",
       "      <td>1021</td>\n",
       "      <td>2020</td>\n",
       "      <td>12</td>\n",
       "      <td>Third</td>\n",
       "      <td>0.0</td>\n",
       "      <td>0.0</td>\n",
       "      <td>30</td>\n",
       "      <td>23</td>\n",
       "      <td>1.0</td>\n",
       "    </tr>\n",
       "    <tr>\n",
       "      <th>1542403</th>\n",
       "      <td>12262588</td>\n",
       "      <td>False</td>\n",
       "      <td>False</td>\n",
       "      <td>2533</td>\n",
       "      <td>2020</td>\n",
       "      <td>12</td>\n",
       "      <td>Third</td>\n",
       "      <td>0.0</td>\n",
       "      <td>0.0</td>\n",
       "      <td>30</td>\n",
       "      <td>23</td>\n",
       "      <td>1.0</td>\n",
       "    </tr>\n",
       "  </tbody>\n",
       "</table>\n",
       "<p>1542404 rows × 12 columns</p>\n",
       "</div>"
      ],
      "text/plain": [
       "               ID  Arrest  Domestic  Beat  Year  Month  Watch  PRCP  SNOW  \\\n",
       "0        10225520   False     False   411  2015      1  First   0.0   0.0   \n",
       "1        11028448    True      True  1532  2015      1  First   0.0   0.0   \n",
       "2        10225760   False     False  2024  2015      1  First   0.0   0.0   \n",
       "3        11242929   False     False   223  2015      1  First   0.0   0.0   \n",
       "4        10229179   False     False   214  2015      1  First   0.0   0.0   \n",
       "...           ...     ...       ...   ...   ...    ...    ...   ...   ...   \n",
       "1542399  12259610   False     False   322  2020     12  Third   0.0   0.0   \n",
       "1542400  12263896   False     False   223  2020     12  Third   0.0   0.0   \n",
       "1542401  12274737   False     False   114  2020     12  Third   0.0   0.0   \n",
       "1542402  12258658   False     False  1021  2020     12  Third   0.0   0.0   \n",
       "1542403  12262588   False     False  2533  2020     12  Third   0.0   0.0   \n",
       "\n",
       "         TMAX  TMIN  serious  \n",
       "0          32    17      1.0  \n",
       "1          32    17      1.0  \n",
       "2          32    17      1.0  \n",
       "3          32    17      1.0  \n",
       "4          32    17      1.0  \n",
       "...       ...   ...      ...  \n",
       "1542399    30    23      0.0  \n",
       "1542400    30    23      1.0  \n",
       "1542401    30    23      1.0  \n",
       "1542402    30    23      1.0  \n",
       "1542403    30    23      1.0  \n",
       "\n",
       "[1542404 rows x 12 columns]"
      ]
     },
     "execution_count": 12,
     "metadata": {},
     "output_type": "execute_result"
    }
   ],
   "source": [
    "df_filtered"
   ]
  },
  {
   "cell_type": "code",
   "execution_count": 13,
   "metadata": {},
   "outputs": [],
   "source": [
    "groups = df_filtered[['Year','Month','Watch','Beat']]"
   ]
  },
  {
   "cell_type": "code",
   "execution_count": 14,
   "metadata": {},
   "outputs": [],
   "source": [
    "groups = groups.merge(df_filtered.groupby(['Year','Month', 'Watch','Beat'])['ID'].count().reset_index()).drop_duplicates()\n",
    "\n",
    "groups = groups.merge(df_filtered.groupby(['Year','Month', 'Watch','Beat'])['serious'].sum().reset_index())\n",
    "groups = groups.merge(df_filtered.groupby(['Year','Month', 'Watch','Beat'])['Arrest'].sum().reset_index())\n",
    "groups = groups.merge(df_filtered.groupby(['Year','Month', 'Watch','Beat'])['Domestic'].sum().reset_index())\n",
    "groups = groups.merge(df_filtered.groupby(['Year','Month', 'Watch','Beat'])['TMAX'].mean().reset_index())\n",
    "groups = groups.merge(df_filtered.groupby(['Year','Month', 'Watch','Beat'])['TMIN'].mean().reset_index())\n",
    "groups = groups.merge(df_filtered.groupby(['Year','Month', 'Watch','Beat'])['PRCP'].mean().reset_index())\n",
    "groups = groups.merge(df_filtered.groupby(['Year','Month', 'Watch','Beat'])['SNOW'].mean().reset_index())\n",
    "\n",
    "groups.rename({'ID':'Total', 'serious':'Serious'}, axis=1, inplace=True)"
   ]
  },
  {
   "cell_type": "code",
   "execution_count": 15,
   "metadata": {},
   "outputs": [],
   "source": [
    "groups['rank'] = groups.groupby(['Year','Month'])['Serious'].rank(pct=True)\n",
    "groups.loc[groups['rank'] > .75, \"high_crime\"] = 1\n",
    "groups['high_crime'].fillna(0, inplace=True)\n",
    "groups.drop('rank', axis = 1, inplace=True)"
   ]
  },
  {
   "cell_type": "code",
   "execution_count": 16,
   "metadata": {},
   "outputs": [
    {
     "data": {
      "text/plain": [
       "Year               2015\n",
       "Month                 1\n",
       "Watch             First\n",
       "Beat               1532\n",
       "Total                24\n",
       "Serious            13.0\n",
       "Arrest                9\n",
       "Domestic              7\n",
       "TMAX             31.125\n",
       "TMIN          16.583333\n",
       "PRCP           0.045833\n",
       "SNOW           0.233333\n",
       "high_crime          0.0\n",
       "Name: 1, dtype: object"
      ]
     },
     "execution_count": 16,
     "metadata": {},
     "output_type": "execute_result"
    }
   ],
   "source": [
    "groups.iloc[1]"
   ]
  },
  {
   "cell_type": "code",
   "execution_count": 17,
   "metadata": {},
   "outputs": [],
   "source": [
    "# Merging beat data to crime data.  \n",
    "\n",
    "crime_df = pd.merge(groups, beats_df, how = 'left', left_on = 'Beat', right_on = 'beat_num')"
   ]
  },
  {
   "cell_type": "code",
   "execution_count": 18,
   "metadata": {},
   "outputs": [
    {
     "data": {
      "text/plain": [
       "Year                            2015\n",
       "Month                              1\n",
       "Watch                          First\n",
       "Beat                            1532\n",
       "Total                             24\n",
       "Serious                         13.0\n",
       "Arrest                             9\n",
       "Domestic                           7\n",
       "TMAX                          31.125\n",
       "TMIN                       16.583333\n",
       "PRCP                        0.045833\n",
       "SNOW                        0.233333\n",
       "high_crime                       0.0\n",
       "Unnamed: 0                        80\n",
       "beat                               3\n",
       "beat_num                        1532\n",
       "district                          15\n",
       "sector                             3\n",
       "count_l_stops                    1.0\n",
       "count_bus_stops                 11.0\n",
       "count_metra_stops                0.0\n",
       "count_restaurants               14.0\n",
       "count_bars                       2.0\n",
       "count_daycares                   1.0\n",
       "count_entertainment              0.0\n",
       "count_businesses                24.0\n",
       "road_distance_ft       162950.259395\n",
       "TOTAL POPULATION         6459.881637\n",
       "dist_to_police           5701.676947\n",
       "dist_to_hospital         6619.369443\n",
       "Name: 1, dtype: object"
      ]
     },
     "execution_count": 18,
     "metadata": {},
     "output_type": "execute_result"
    }
   ],
   "source": [
    "crime_df.iloc[1]"
   ]
  },
  {
   "cell_type": "code",
   "execution_count": 19,
   "metadata": {},
   "outputs": [],
   "source": [
    "crime_df.drop([\"Unnamed: 0\", 'beat'], axis=1, inplace=True)"
   ]
  },
  {
   "cell_type": "code",
   "execution_count": 20,
   "metadata": {},
   "outputs": [
    {
     "name": "stdout",
     "output_type": "stream",
     "text": [
      "<class 'pandas.core.frame.DataFrame'>\n",
      "Int64Index: 59093 entries, 0 to 59092\n",
      "Data columns (total 28 columns):\n",
      " #   Column               Non-Null Count  Dtype  \n",
      "---  ------               --------------  -----  \n",
      " 0   Year                 59093 non-null  int64  \n",
      " 1   Month                59093 non-null  int64  \n",
      " 2   Watch                59093 non-null  object \n",
      " 3   Beat                 59093 non-null  int64  \n",
      " 4   Total                59093 non-null  int64  \n",
      " 5   Serious              59093 non-null  float64\n",
      " 6   Arrest               59093 non-null  int64  \n",
      " 7   Domestic             59093 non-null  int64  \n",
      " 8   TMAX                 59093 non-null  float64\n",
      " 9   TMIN                 59093 non-null  float64\n",
      " 10  PRCP                 59093 non-null  float64\n",
      " 11  SNOW                 59093 non-null  float64\n",
      " 12  high_crime           59093 non-null  float64\n",
      " 13  beat_num             59093 non-null  int64  \n",
      " 14  district             59093 non-null  int64  \n",
      " 15  sector               59093 non-null  int64  \n",
      " 16  count_l_stops        59093 non-null  float64\n",
      " 17  count_bus_stops      59093 non-null  float64\n",
      " 18  count_metra_stops    59093 non-null  float64\n",
      " 19  count_restaurants    59093 non-null  float64\n",
      " 20  count_bars           59093 non-null  float64\n",
      " 21  count_daycares       59093 non-null  float64\n",
      " 22  count_entertainment  59093 non-null  float64\n",
      " 23  count_businesses     59093 non-null  float64\n",
      " 24  road_distance_ft     59093 non-null  float64\n",
      " 25  TOTAL POPULATION     59093 non-null  float64\n",
      " 26  dist_to_police       59093 non-null  float64\n",
      " 27  dist_to_hospital     59093 non-null  float64\n",
      "dtypes: float64(18), int64(9), object(1)\n",
      "memory usage: 13.1+ MB\n"
     ]
    }
   ],
   "source": [
    "crime_df.info()"
   ]
  },
  {
   "cell_type": "code",
   "execution_count": 21,
   "metadata": {},
   "outputs": [
    {
     "name": "stdout",
     "output_type": "stream",
     "text": [
      "../raw_data/Boundaries - Police Beats (current).geojson EPSG:3435\n",
      "../raw_data/Boundaries - Census Blocks - 2010.geojson EPSG:3435\n"
     ]
    }
   ],
   "source": [
    "%run geoprocessing_helpers.ipynb"
   ]
  },
  {
   "cell_type": "code",
   "execution_count": 22,
   "metadata": {},
   "outputs": [],
   "source": [
    "beats = gpd.read_file(\"../raw_data/Boundaries - Police Beats (current).geojson\")"
   ]
  },
  {
   "cell_type": "code",
   "execution_count": 23,
   "metadata": {},
   "outputs": [
    {
     "data": {
      "text/html": [
       "<div>\n",
       "<style scoped>\n",
       "    .dataframe tbody tr th:only-of-type {\n",
       "        vertical-align: middle;\n",
       "    }\n",
       "\n",
       "    .dataframe tbody tr th {\n",
       "        vertical-align: top;\n",
       "    }\n",
       "\n",
       "    .dataframe thead th {\n",
       "        text-align: right;\n",
       "    }\n",
       "</style>\n",
       "<table border=\"1\" class=\"dataframe\">\n",
       "  <thead>\n",
       "    <tr style=\"text-align: right;\">\n",
       "      <th></th>\n",
       "      <th>beat</th>\n",
       "      <th>beat_num</th>\n",
       "      <th>district</th>\n",
       "      <th>sector</th>\n",
       "      <th>geometry</th>\n",
       "    </tr>\n",
       "  </thead>\n",
       "  <tbody>\n",
       "    <tr>\n",
       "      <th>0</th>\n",
       "      <td>1</td>\n",
       "      <td>1713</td>\n",
       "      <td>17</td>\n",
       "      <td>1</td>\n",
       "      <td>MULTIPOLYGON (((-87.70473 41.97577, -87.70472 ...</td>\n",
       "    </tr>\n",
       "    <tr>\n",
       "      <th>1</th>\n",
       "      <td>0</td>\n",
       "      <td>3100</td>\n",
       "      <td>31</td>\n",
       "      <td>0</td>\n",
       "      <td>MULTIPOLYGON (((-87.83365 41.97535, -87.83366 ...</td>\n",
       "    </tr>\n",
       "    <tr>\n",
       "      <th>2</th>\n",
       "      <td>5</td>\n",
       "      <td>1651</td>\n",
       "      <td>16</td>\n",
       "      <td>5</td>\n",
       "      <td>MULTIPOLYGON (((-87.90684 41.97656, -87.91070 ...</td>\n",
       "    </tr>\n",
       "    <tr>\n",
       "      <th>3</th>\n",
       "      <td>1</td>\n",
       "      <td>1914</td>\n",
       "      <td>19</td>\n",
       "      <td>1</td>\n",
       "      <td>MULTIPOLYGON (((-87.64492 41.96973, -87.64431 ...</td>\n",
       "    </tr>\n",
       "    <tr>\n",
       "      <th>4</th>\n",
       "      <td>1</td>\n",
       "      <td>1915</td>\n",
       "      <td>19</td>\n",
       "      <td>1</td>\n",
       "      <td>MULTIPOLYGON (((-87.63724 41.96599, -87.63644 ...</td>\n",
       "    </tr>\n",
       "    <tr>\n",
       "      <th>...</th>\n",
       "      <td>...</td>\n",
       "      <td>...</td>\n",
       "      <td>...</td>\n",
       "      <td>...</td>\n",
       "      <td>...</td>\n",
       "    </tr>\n",
       "    <tr>\n",
       "      <th>272</th>\n",
       "      <td>1</td>\n",
       "      <td>0314</td>\n",
       "      <td>03</td>\n",
       "      <td>1</td>\n",
       "      <td>MULTIPOLYGON (((-87.58879 41.78612, -87.58844 ...</td>\n",
       "    </tr>\n",
       "    <tr>\n",
       "      <th>273</th>\n",
       "      <td>2</td>\n",
       "      <td>0825</td>\n",
       "      <td>08</td>\n",
       "      <td>2</td>\n",
       "      <td>MULTIPOLYGON (((-87.67917 41.78656, -87.67912 ...</td>\n",
       "    </tr>\n",
       "    <tr>\n",
       "      <th>274</th>\n",
       "      <td>1</td>\n",
       "      <td>0313</td>\n",
       "      <td>03</td>\n",
       "      <td>1</td>\n",
       "      <td>MULTIPOLYGON (((-87.60854 41.78583, -87.60808 ...</td>\n",
       "    </tr>\n",
       "    <tr>\n",
       "      <th>275</th>\n",
       "      <td>2</td>\n",
       "      <td>0823</td>\n",
       "      <td>08</td>\n",
       "      <td>2</td>\n",
       "      <td>MULTIPOLYGON (((-87.69354 41.78458, -87.69354 ...</td>\n",
       "    </tr>\n",
       "    <tr>\n",
       "      <th>276</th>\n",
       "      <td>1</td>\n",
       "      <td>0312</td>\n",
       "      <td>03</td>\n",
       "      <td>1</td>\n",
       "      <td>MULTIPOLYGON (((-87.60431 41.78043, -87.60400 ...</td>\n",
       "    </tr>\n",
       "  </tbody>\n",
       "</table>\n",
       "<p>277 rows × 5 columns</p>\n",
       "</div>"
      ],
      "text/plain": [
       "    beat beat_num district sector  \\\n",
       "0      1     1713       17      1   \n",
       "1      0     3100       31      0   \n",
       "2      5     1651       16      5   \n",
       "3      1     1914       19      1   \n",
       "4      1     1915       19      1   \n",
       "..   ...      ...      ...    ...   \n",
       "272    1     0314       03      1   \n",
       "273    2     0825       08      2   \n",
       "274    1     0313       03      1   \n",
       "275    2     0823       08      2   \n",
       "276    1     0312       03      1   \n",
       "\n",
       "                                              geometry  \n",
       "0    MULTIPOLYGON (((-87.70473 41.97577, -87.70472 ...  \n",
       "1    MULTIPOLYGON (((-87.83365 41.97535, -87.83366 ...  \n",
       "2    MULTIPOLYGON (((-87.90684 41.97656, -87.91070 ...  \n",
       "3    MULTIPOLYGON (((-87.64492 41.96973, -87.64431 ...  \n",
       "4    MULTIPOLYGON (((-87.63724 41.96599, -87.63644 ...  \n",
       "..                                                 ...  \n",
       "272  MULTIPOLYGON (((-87.58879 41.78612, -87.58844 ...  \n",
       "273  MULTIPOLYGON (((-87.67917 41.78656, -87.67912 ...  \n",
       "274  MULTIPOLYGON (((-87.60854 41.78583, -87.60808 ...  \n",
       "275  MULTIPOLYGON (((-87.69354 41.78458, -87.69354 ...  \n",
       "276  MULTIPOLYGON (((-87.60431 41.78043, -87.60400 ...  \n",
       "\n",
       "[277 rows x 5 columns]"
      ]
     },
     "execution_count": 23,
     "metadata": {},
     "output_type": "execute_result"
    }
   ],
   "source": [
    "beats"
   ]
  },
  {
   "cell_type": "code",
   "execution_count": 24,
   "metadata": {},
   "outputs": [],
   "source": [
    "crime_df[\"Beat\"]=crime_df[\"Beat\"].astype(\"string\")\n",
    "crime_df[\"Beat\"] =crime_df[\"Beat\"].str.zfill(4)"
   ]
  },
  {
   "cell_type": "code",
   "execution_count": 25,
   "metadata": {},
   "outputs": [
    {
     "data": {
      "text/plain": [
       "Year                            2015\n",
       "Month                              1\n",
       "Watch                          First\n",
       "Beat                            0411\n",
       "Total                             16\n",
       "Serious                          9.0\n",
       "Arrest                             3\n",
       "Domestic                           5\n",
       "TMAX                         32.5625\n",
       "TMIN                            21.5\n",
       "PRCP                        0.055625\n",
       "SNOW                        0.326667\n",
       "high_crime                       0.0\n",
       "beat_num                         411\n",
       "district                           4\n",
       "sector                             1\n",
       "count_l_stops                    0.0\n",
       "count_bus_stops                 49.0\n",
       "count_metra_stops                2.0\n",
       "count_restaurants               16.0\n",
       "count_bars                       0.0\n",
       "count_daycares                   1.0\n",
       "count_entertainment              0.0\n",
       "count_businesses                58.0\n",
       "road_distance_ft       231176.656022\n",
       "TOTAL POPULATION         5470.665022\n",
       "dist_to_police           7180.695576\n",
       "dist_to_hospital         2783.222325\n",
       "Name: 0, dtype: object"
      ]
     },
     "execution_count": 25,
     "metadata": {},
     "output_type": "execute_result"
    }
   ],
   "source": [
    "crime_df.iloc[0]"
   ]
  },
  {
   "cell_type": "code",
   "execution_count": 26,
   "metadata": {},
   "outputs": [
    {
     "data": {
      "text/plain": [
       "beat                                                        0\n",
       "beat_num                                                 3100\n",
       "district                                                   31\n",
       "sector                                                      0\n",
       "geometry    (POLYGON ((-87.83365455041093 41.9753548151922...\n",
       "Name: 1, dtype: object"
      ]
     },
     "execution_count": 26,
     "metadata": {},
     "output_type": "execute_result"
    }
   ],
   "source": [
    "beats.iloc[1]"
   ]
  },
  {
   "cell_type": "code",
   "execution_count": 27,
   "metadata": {},
   "outputs": [],
   "source": [
    "crime_data = beats.merge(crime_df, left_on=\"beat_num\", right_on=\"Beat\")"
   ]
  },
  {
   "cell_type": "code",
   "execution_count": 28,
   "metadata": {},
   "outputs": [],
   "source": [
    "crime_data = compute_spatial_lag(crime_data, \"high_crime\", \n",
    "                                 \"high_crime_geog_lag\", \n",
    "                                 \"Year\")"
   ]
  },
  {
   "cell_type": "code",
   "execution_count": 29,
   "metadata": {},
   "outputs": [
    {
     "data": {
      "text/plain": [
       "beat                                                                   1\n",
       "beat_num_x                                                          1713\n",
       "district_x                                                            17\n",
       "sector_x                                                               1\n",
       "geometry               (POLYGON ((-87.7047252651434 41.97577443021446...\n",
       "Year                                                                2015\n",
       "Month                                                                  1\n",
       "Watch                                                             Second\n",
       "Beat                                                                1713\n",
       "Total                                                                 20\n",
       "Serious                                                             13.0\n",
       "Arrest                                                                 5\n",
       "Domestic                                                               4\n",
       "TMAX                                                               32.65\n",
       "TMIN                                                                23.0\n",
       "PRCP                                                               0.024\n",
       "SNOW                                                            0.344444\n",
       "high_crime                                                           0.0\n",
       "beat_num_y                                                          1713\n",
       "district_y                                                            17\n",
       "sector_y                                                               1\n",
       "count_l_stops                                                        3.0\n",
       "count_bus_stops                                                     26.0\n",
       "count_metra_stops                                                    0.0\n",
       "count_restaurants                                                   63.0\n",
       "count_bars                                                           9.0\n",
       "count_daycares                                                       6.0\n",
       "count_entertainment                                                  1.0\n",
       "count_businesses                                                    92.0\n",
       "road_distance_ft                                           169276.405792\n",
       "TOTAL POPULATION                                            13283.675264\n",
       "dist_to_police                                                5454.06889\n",
       "dist_to_hospital                                             3258.006066\n",
       "high_crime_geog_lag                                             0.155378\n",
       "Name: 1, dtype: object"
      ]
     },
     "execution_count": 29,
     "metadata": {},
     "output_type": "execute_result"
    }
   ],
   "source": [
    "crime_data.iloc[1]"
   ]
  },
  {
   "cell_type": "code",
   "execution_count": 30,
   "metadata": {},
   "outputs": [],
   "source": [
    "crime_data.drop(['beat_num_y', 'district_y', 'sector_y'], axis=1, inplace = True)\n",
    "crime_data.rename(columns={'Total': 'Crimes',\n",
    "                         'beat_num_x': 'beat_num', \n",
    "                         'district_x': 'district', \n",
    "                         'sector_x': 'sector'}, inplace=True)"
   ]
  },
  {
   "cell_type": "code",
   "execution_count": 31,
   "metadata": {},
   "outputs": [
    {
     "data": {
      "text/plain": [
       "Index(['beat', 'beat_num', 'district', 'sector', 'geometry', 'Year', 'Month',\n",
       "       'Watch', 'Beat', 'Crimes', 'Serious', 'Arrest', 'Domestic', 'TMAX',\n",
       "       'TMIN', 'PRCP', 'SNOW', 'high_crime', 'count_l_stops',\n",
       "       'count_bus_stops', 'count_metra_stops', 'count_restaurants',\n",
       "       'count_bars', 'count_daycares', 'count_entertainment',\n",
       "       'count_businesses', 'road_distance_ft', 'TOTAL POPULATION',\n",
       "       'dist_to_police', 'dist_to_hospital', 'high_crime_geog_lag'],\n",
       "      dtype='object')"
      ]
     },
     "execution_count": 31,
     "metadata": {},
     "output_type": "execute_result"
    }
   ],
   "source": [
    "crime_data.columns"
   ]
  },
  {
   "cell_type": "code",
   "execution_count": 32,
   "metadata": {},
   "outputs": [],
   "source": [
    "# Saving aggregate geospatial data for analysis\n",
    "\n",
    "crime_data.to_csv(\"../intermediate_data/df_geospatial_to_graph.csv\")"
   ]
  },
  {
   "cell_type": "code",
   "execution_count": 33,
   "metadata": {},
   "outputs": [],
   "source": [
    "crime_data.drop(columns = \"geometry\", axis=0, inplace=True)"
   ]
  },
  {
   "cell_type": "code",
   "execution_count": 34,
   "metadata": {},
   "outputs": [],
   "source": [
    "crime_data.to_csv(\"../intermediate_data/high_crime_labeled.csv\")"
   ]
  }
 ],
 "metadata": {
  "kernelspec": {
   "display_name": "Python 3",
   "language": "python",
   "name": "python3"
  },
  "language_info": {
   "codemirror_mode": {
    "name": "ipython",
    "version": 3
   },
   "file_extension": ".py",
   "mimetype": "text/x-python",
   "name": "python",
   "nbconvert_exporter": "python",
   "pygments_lexer": "ipython3",
   "version": "3.8.5"
  }
 },
 "nbformat": 4,
 "nbformat_minor": 4
}
