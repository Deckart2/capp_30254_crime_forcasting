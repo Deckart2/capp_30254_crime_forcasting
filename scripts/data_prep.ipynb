{
 "cells": [
  {
   "cell_type": "markdown",
   "metadata": {},
   "source": [
    "# DB Project, data prep #1"
   ]
  },
  {
   "cell_type": "code",
   "execution_count": 1,
   "metadata": {},
   "outputs": [
    {
     "name": "stderr",
     "output_type": "stream",
     "text": [
      "/opt/anaconda3/lib/python3.8/site-packages/geopandas/_compat.py:106: UserWarning: The Shapely GEOS version (3.8.0-CAPI-1.13.1 ) is incompatible with the GEOS version PyGEOS was compiled with (3.9.1-CAPI-1.14.2). Conversions between both will be slow.\n",
      "  warnings.warn(\n"
     ]
    }
   ],
   "source": [
    "# Importing relevant packages, loading relevant data.\n",
    "\n",
    "import numpy as np\n",
    "import pandas as pd\n",
    "import matplotlib.pyplot as plt\n",
    "import seaborn as sns\n",
    "import geopandas as gpd\n",
    "from geopandas import GeoDataFrame\n",
    "from shapely.geometry import Point\n",
    "import warnings\n",
    "warnings.filterwarnings('ignore')"
   ]
  },
  {
   "cell_type": "code",
   "execution_count": 2,
   "metadata": {},
   "outputs": [],
   "source": [
    "#Import function for spatially lagged "
   ]
  },
  {
   "cell_type": "code",
   "execution_count": 3,
   "metadata": {},
   "outputs": [],
   "source": [
    "crime_df = pd.read_csv('../raw_data/Crimes_-_2015_to_Present.csv')\n",
    "crime_class_df = pd.read_csv('../raw_data/Crimes_classes.csv')\n",
    "beats_df = pd.read_csv('../intermediate_data/beats.csv')\n",
    "weather_df = pd.read_csv('../raw_data/weather_2015-2020.csv')"
   ]
  },
  {
   "cell_type": "code",
   "execution_count": 4,
   "metadata": {},
   "outputs": [],
   "source": [
    "# Transforming crime data to datetime, indexing by such, limiting data to 2015-2020.\n",
    "crime_df['Date'] = pd.to_datetime(crime_df['Date'])\n",
    "crime_df = crime_df.set_index('Date')\n",
    "crime_df = crime_df['20150101' : '20201231']"
   ]
  },
  {
   "cell_type": "code",
   "execution_count": 5,
   "metadata": {
    "scrolled": true
   },
   "outputs": [],
   "source": [
    "# Creating features for month, week of the current year, day of the week, and hour of day .\n",
    "\n",
    "crime_df['Month'] = crime_df.index.month\n",
    "crime_df['Week'] = crime_df.index.week\n",
    "crime_df['Day'] = crime_df.index.day\n",
    "crime_df['Hour'] = crime_df.index.hour\n",
    "\n",
    "def find_watch(n):\n",
    "    if 0 <= n < 8:\n",
    "        return 'First'\n",
    "    elif 8 <= n < 16:\n",
    "        return 'Second'\n",
    "    elif 16 <= n:\n",
    "        return 'Third'\n",
    "        \n",
    "\n",
    "crime_df['Watch'] = crime_df['Hour'].apply(find_watch)\n",
    "\n",
    "crime_df.index = crime_df.index.date"
   ]
  },
  {
   "cell_type": "code",
   "execution_count": 6,
   "metadata": {},
   "outputs": [],
   "source": [
    "# Transforming weather data to datetime, indexing by such.\n",
    "\n",
    "weather_df['Date'] = pd.to_datetime(weather_df['DATE'])\n",
    "weather_df = weather_df.set_index('Date')"
   ]
  },
  {
   "cell_type": "code",
   "execution_count": 7,
   "metadata": {
    "scrolled": true
   },
   "outputs": [],
   "source": [
    "# Merging weather data to crime data.\n",
    "\n",
    "crime_df = pd.merge(crime_df, weather_df, how = 'left', left_index = True, right_index = True)"
   ]
  },
  {
   "cell_type": "code",
   "execution_count": 8,
   "metadata": {},
   "outputs": [],
   "source": [
    "# Preparing crime classes to merge into crime data, and merging.\n",
    "\n",
    "for index, row in crime_class_df.iterrows():\n",
    "    if len(row['crime_id']) == 3:\n",
    "        row['crime_id'] = '0' + row['crime_id']\n",
    "\n",
    "crime_df = pd.merge(crime_df, crime_class_df, how = 'left', left_on = 'IUCR', right_on = 'crime_id')        "
   ]
  },
  {
   "cell_type": "code",
   "execution_count": 9,
   "metadata": {},
   "outputs": [],
   "source": [
    "# Merging beat data to crime data.  \n",
    "\n",
    "crime_df = pd.merge(crime_df, beats_df, how = 'left', left_on = 'Beat', right_on = 'beat_num')"
   ]
  },
  {
   "cell_type": "code",
   "execution_count": 10,
   "metadata": {},
   "outputs": [],
   "source": [
    "# Dropping undesired features.\n",
    "\n",
    "col_list = ['ID','Arrest', 'Domestic', 'Beat', 'Year', 'Month', 'Week', 'Day', 'Hour', 'Watch', \n",
    "            'PRCP', 'SNOW','TMAX', 'TMIN', 'category_1', 'category_2', 'count_l_stops', \n",
    "            'count_bus_stops', 'count_metra_stops', 'count_restaurants', 'count_bars', \n",
    "            'count_daycares', 'count_entertainment', 'count_businesses', 'road_distance_ft', \n",
    "            'TOTAL POPULATION', 'dist_to_police', 'dist_to_hospital']\n",
    "\n",
    "df = crime_df.filter(col_list)"
   ]
  },
  {
   "cell_type": "code",
   "execution_count": 11,
   "metadata": {},
   "outputs": [
    {
     "data": {
      "text/html": [
       "<div>\n",
       "<style scoped>\n",
       "    .dataframe tbody tr th:only-of-type {\n",
       "        vertical-align: middle;\n",
       "    }\n",
       "\n",
       "    .dataframe tbody tr th {\n",
       "        vertical-align: top;\n",
       "    }\n",
       "\n",
       "    .dataframe thead th {\n",
       "        text-align: right;\n",
       "    }\n",
       "</style>\n",
       "<table border=\"1\" class=\"dataframe\">\n",
       "  <thead>\n",
       "    <tr style=\"text-align: right;\">\n",
       "      <th></th>\n",
       "      <th>ID</th>\n",
       "      <th>Arrest</th>\n",
       "      <th>Domestic</th>\n",
       "      <th>Beat</th>\n",
       "      <th>Year</th>\n",
       "      <th>Month</th>\n",
       "      <th>Week</th>\n",
       "      <th>Day</th>\n",
       "      <th>Hour</th>\n",
       "      <th>Watch</th>\n",
       "      <th>...</th>\n",
       "      <th>count_metra_stops</th>\n",
       "      <th>count_restaurants</th>\n",
       "      <th>count_bars</th>\n",
       "      <th>count_daycares</th>\n",
       "      <th>count_entertainment</th>\n",
       "      <th>count_businesses</th>\n",
       "      <th>road_distance_ft</th>\n",
       "      <th>TOTAL POPULATION</th>\n",
       "      <th>dist_to_police</th>\n",
       "      <th>dist_to_hospital</th>\n",
       "    </tr>\n",
       "  </thead>\n",
       "  <tbody>\n",
       "    <tr>\n",
       "      <th>0</th>\n",
       "      <td>10225520</td>\n",
       "      <td>False</td>\n",
       "      <td>False</td>\n",
       "      <td>411</td>\n",
       "      <td>2015</td>\n",
       "      <td>1</td>\n",
       "      <td>1</td>\n",
       "      <td>1</td>\n",
       "      <td>0</td>\n",
       "      <td>First</td>\n",
       "      <td>...</td>\n",
       "      <td>2.0</td>\n",
       "      <td>16.0</td>\n",
       "      <td>0.0</td>\n",
       "      <td>1.0</td>\n",
       "      <td>0.0</td>\n",
       "      <td>58.0</td>\n",
       "      <td>231176.656022</td>\n",
       "      <td>5470.665022</td>\n",
       "      <td>7180.695576</td>\n",
       "      <td>2783.222325</td>\n",
       "    </tr>\n",
       "    <tr>\n",
       "      <th>1</th>\n",
       "      <td>11028448</td>\n",
       "      <td>True</td>\n",
       "      <td>True</td>\n",
       "      <td>1532</td>\n",
       "      <td>2015</td>\n",
       "      <td>1</td>\n",
       "      <td>1</td>\n",
       "      <td>1</td>\n",
       "      <td>0</td>\n",
       "      <td>First</td>\n",
       "      <td>...</td>\n",
       "      <td>0.0</td>\n",
       "      <td>14.0</td>\n",
       "      <td>2.0</td>\n",
       "      <td>1.0</td>\n",
       "      <td>0.0</td>\n",
       "      <td>24.0</td>\n",
       "      <td>162950.259395</td>\n",
       "      <td>6459.881637</td>\n",
       "      <td>5701.676947</td>\n",
       "      <td>6619.369443</td>\n",
       "    </tr>\n",
       "    <tr>\n",
       "      <th>2</th>\n",
       "      <td>10225760</td>\n",
       "      <td>False</td>\n",
       "      <td>False</td>\n",
       "      <td>2024</td>\n",
       "      <td>2015</td>\n",
       "      <td>1</td>\n",
       "      <td>1</td>\n",
       "      <td>1</td>\n",
       "      <td>0</td>\n",
       "      <td>First</td>\n",
       "      <td>...</td>\n",
       "      <td>0.0</td>\n",
       "      <td>36.0</td>\n",
       "      <td>7.0</td>\n",
       "      <td>2.0</td>\n",
       "      <td>0.0</td>\n",
       "      <td>50.0</td>\n",
       "      <td>84982.042393</td>\n",
       "      <td>11195.685856</td>\n",
       "      <td>9224.617641</td>\n",
       "      <td>989.984955</td>\n",
       "    </tr>\n",
       "    <tr>\n",
       "      <th>3</th>\n",
       "      <td>11242929</td>\n",
       "      <td>False</td>\n",
       "      <td>False</td>\n",
       "      <td>223</td>\n",
       "      <td>2015</td>\n",
       "      <td>1</td>\n",
       "      <td>1</td>\n",
       "      <td>1</td>\n",
       "      <td>0</td>\n",
       "      <td>First</td>\n",
       "      <td>...</td>\n",
       "      <td>0.0</td>\n",
       "      <td>21.0</td>\n",
       "      <td>3.0</td>\n",
       "      <td>0.0</td>\n",
       "      <td>1.0</td>\n",
       "      <td>30.0</td>\n",
       "      <td>132102.433573</td>\n",
       "      <td>7269.595612</td>\n",
       "      <td>5686.009943</td>\n",
       "      <td>1509.833687</td>\n",
       "    </tr>\n",
       "    <tr>\n",
       "      <th>4</th>\n",
       "      <td>10229179</td>\n",
       "      <td>False</td>\n",
       "      <td>False</td>\n",
       "      <td>214</td>\n",
       "      <td>2015</td>\n",
       "      <td>1</td>\n",
       "      <td>1</td>\n",
       "      <td>1</td>\n",
       "      <td>0</td>\n",
       "      <td>First</td>\n",
       "      <td>...</td>\n",
       "      <td>0.0</td>\n",
       "      <td>11.0</td>\n",
       "      <td>2.0</td>\n",
       "      <td>2.0</td>\n",
       "      <td>2.0</td>\n",
       "      <td>48.0</td>\n",
       "      <td>179945.426889</td>\n",
       "      <td>6796.787190</td>\n",
       "      <td>6120.288930</td>\n",
       "      <td>6801.558784</td>\n",
       "    </tr>\n",
       "    <tr>\n",
       "      <th>...</th>\n",
       "      <td>...</td>\n",
       "      <td>...</td>\n",
       "      <td>...</td>\n",
       "      <td>...</td>\n",
       "      <td>...</td>\n",
       "      <td>...</td>\n",
       "      <td>...</td>\n",
       "      <td>...</td>\n",
       "      <td>...</td>\n",
       "      <td>...</td>\n",
       "      <td>...</td>\n",
       "      <td>...</td>\n",
       "      <td>...</td>\n",
       "      <td>...</td>\n",
       "      <td>...</td>\n",
       "      <td>...</td>\n",
       "      <td>...</td>\n",
       "      <td>...</td>\n",
       "      <td>...</td>\n",
       "      <td>...</td>\n",
       "      <td>...</td>\n",
       "    </tr>\n",
       "    <tr>\n",
       "      <th>1542559</th>\n",
       "      <td>12259610</td>\n",
       "      <td>False</td>\n",
       "      <td>False</td>\n",
       "      <td>322</td>\n",
       "      <td>2020</td>\n",
       "      <td>12</td>\n",
       "      <td>53</td>\n",
       "      <td>31</td>\n",
       "      <td>23</td>\n",
       "      <td>Third</td>\n",
       "      <td>...</td>\n",
       "      <td>0.0</td>\n",
       "      <td>13.0</td>\n",
       "      <td>0.0</td>\n",
       "      <td>3.0</td>\n",
       "      <td>0.0</td>\n",
       "      <td>38.0</td>\n",
       "      <td>166363.108047</td>\n",
       "      <td>4779.197159</td>\n",
       "      <td>3385.928847</td>\n",
       "      <td>5232.120750</td>\n",
       "    </tr>\n",
       "    <tr>\n",
       "      <th>1542560</th>\n",
       "      <td>12263896</td>\n",
       "      <td>False</td>\n",
       "      <td>False</td>\n",
       "      <td>223</td>\n",
       "      <td>2020</td>\n",
       "      <td>12</td>\n",
       "      <td>53</td>\n",
       "      <td>31</td>\n",
       "      <td>23</td>\n",
       "      <td>Third</td>\n",
       "      <td>...</td>\n",
       "      <td>0.0</td>\n",
       "      <td>21.0</td>\n",
       "      <td>3.0</td>\n",
       "      <td>0.0</td>\n",
       "      <td>1.0</td>\n",
       "      <td>30.0</td>\n",
       "      <td>132102.433573</td>\n",
       "      <td>7269.595612</td>\n",
       "      <td>5686.009943</td>\n",
       "      <td>1509.833687</td>\n",
       "    </tr>\n",
       "    <tr>\n",
       "      <th>1542561</th>\n",
       "      <td>12274737</td>\n",
       "      <td>False</td>\n",
       "      <td>False</td>\n",
       "      <td>114</td>\n",
       "      <td>2020</td>\n",
       "      <td>12</td>\n",
       "      <td>53</td>\n",
       "      <td>31</td>\n",
       "      <td>23</td>\n",
       "      <td>Third</td>\n",
       "      <td>...</td>\n",
       "      <td>3.0</td>\n",
       "      <td>116.0</td>\n",
       "      <td>47.0</td>\n",
       "      <td>3.0</td>\n",
       "      <td>7.0</td>\n",
       "      <td>368.0</td>\n",
       "      <td>346507.253934</td>\n",
       "      <td>9669.652072</td>\n",
       "      <td>7850.827327</td>\n",
       "      <td>5659.991025</td>\n",
       "    </tr>\n",
       "    <tr>\n",
       "      <th>1542562</th>\n",
       "      <td>12258658</td>\n",
       "      <td>False</td>\n",
       "      <td>False</td>\n",
       "      <td>1021</td>\n",
       "      <td>2020</td>\n",
       "      <td>12</td>\n",
       "      <td>53</td>\n",
       "      <td>31</td>\n",
       "      <td>23</td>\n",
       "      <td>Third</td>\n",
       "      <td>...</td>\n",
       "      <td>0.0</td>\n",
       "      <td>5.0</td>\n",
       "      <td>0.0</td>\n",
       "      <td>1.0</td>\n",
       "      <td>0.0</td>\n",
       "      <td>6.0</td>\n",
       "      <td>124356.550025</td>\n",
       "      <td>5045.432993</td>\n",
       "      <td>1916.265712</td>\n",
       "      <td>4283.561673</td>\n",
       "    </tr>\n",
       "    <tr>\n",
       "      <th>1542563</th>\n",
       "      <td>12262588</td>\n",
       "      <td>False</td>\n",
       "      <td>False</td>\n",
       "      <td>2533</td>\n",
       "      <td>2020</td>\n",
       "      <td>12</td>\n",
       "      <td>53</td>\n",
       "      <td>31</td>\n",
       "      <td>23</td>\n",
       "      <td>Third</td>\n",
       "      <td>...</td>\n",
       "      <td>1.0</td>\n",
       "      <td>40.0</td>\n",
       "      <td>7.0</td>\n",
       "      <td>0.0</td>\n",
       "      <td>1.0</td>\n",
       "      <td>157.0</td>\n",
       "      <td>258497.695305</td>\n",
       "      <td>7828.567981</td>\n",
       "      <td>5983.975614</td>\n",
       "      <td>9906.754278</td>\n",
       "    </tr>\n",
       "  </tbody>\n",
       "</table>\n",
       "<p>1542564 rows × 28 columns</p>\n",
       "</div>"
      ],
      "text/plain": [
       "               ID  Arrest  Domestic  Beat  Year  Month  Week  Day  Hour  \\\n",
       "0        10225520   False     False   411  2015      1     1    1     0   \n",
       "1        11028448    True      True  1532  2015      1     1    1     0   \n",
       "2        10225760   False     False  2024  2015      1     1    1     0   \n",
       "3        11242929   False     False   223  2015      1     1    1     0   \n",
       "4        10229179   False     False   214  2015      1     1    1     0   \n",
       "...           ...     ...       ...   ...   ...    ...   ...  ...   ...   \n",
       "1542559  12259610   False     False   322  2020     12    53   31    23   \n",
       "1542560  12263896   False     False   223  2020     12    53   31    23   \n",
       "1542561  12274737   False     False   114  2020     12    53   31    23   \n",
       "1542562  12258658   False     False  1021  2020     12    53   31    23   \n",
       "1542563  12262588   False     False  2533  2020     12    53   31    23   \n",
       "\n",
       "         Watch  ...  count_metra_stops  count_restaurants  count_bars  \\\n",
       "0        First  ...                2.0               16.0         0.0   \n",
       "1        First  ...                0.0               14.0         2.0   \n",
       "2        First  ...                0.0               36.0         7.0   \n",
       "3        First  ...                0.0               21.0         3.0   \n",
       "4        First  ...                0.0               11.0         2.0   \n",
       "...        ...  ...                ...                ...         ...   \n",
       "1542559  Third  ...                0.0               13.0         0.0   \n",
       "1542560  Third  ...                0.0               21.0         3.0   \n",
       "1542561  Third  ...                3.0              116.0        47.0   \n",
       "1542562  Third  ...                0.0                5.0         0.0   \n",
       "1542563  Third  ...                1.0               40.0         7.0   \n",
       "\n",
       "         count_daycares count_entertainment count_businesses  \\\n",
       "0                   1.0                 0.0             58.0   \n",
       "1                   1.0                 0.0             24.0   \n",
       "2                   2.0                 0.0             50.0   \n",
       "3                   0.0                 1.0             30.0   \n",
       "4                   2.0                 2.0             48.0   \n",
       "...                 ...                 ...              ...   \n",
       "1542559             3.0                 0.0             38.0   \n",
       "1542560             0.0                 1.0             30.0   \n",
       "1542561             3.0                 7.0            368.0   \n",
       "1542562             1.0                 0.0              6.0   \n",
       "1542563             0.0                 1.0            157.0   \n",
       "\n",
       "         road_distance_ft  TOTAL POPULATION  dist_to_police  dist_to_hospital  \n",
       "0           231176.656022       5470.665022     7180.695576       2783.222325  \n",
       "1           162950.259395       6459.881637     5701.676947       6619.369443  \n",
       "2            84982.042393      11195.685856     9224.617641        989.984955  \n",
       "3           132102.433573       7269.595612     5686.009943       1509.833687  \n",
       "4           179945.426889       6796.787190     6120.288930       6801.558784  \n",
       "...                   ...               ...             ...               ...  \n",
       "1542559     166363.108047       4779.197159     3385.928847       5232.120750  \n",
       "1542560     132102.433573       7269.595612     5686.009943       1509.833687  \n",
       "1542561     346507.253934       9669.652072     7850.827327       5659.991025  \n",
       "1542562     124356.550025       5045.432993     1916.265712       4283.561673  \n",
       "1542563     258497.695305       7828.567981     5983.975614       9906.754278  \n",
       "\n",
       "[1542564 rows x 28 columns]"
      ]
     },
     "execution_count": 11,
     "metadata": {},
     "output_type": "execute_result"
    }
   ],
   "source": [
    "#df[\"SNOW\"] = np.where"
   ]
  },
  {
   "cell_type": "code",
   "execution_count": 10,
   "metadata": {},
   "outputs": [
    {
     "data": {
      "text/plain": [
       "(1542564, 28)"
      ]
     },
     "execution_count": 10,
     "metadata": {},
     "output_type": "execute_result"
    }
   ],
   "source": [
    "# Describing data shape.\n",
    "\n",
    "df.shape"
   ]
  },
  {
   "cell_type": "code",
   "execution_count": 11,
   "metadata": {},
   "outputs": [
    {
     "data": {
      "text/plain": [
       "ID                     11745330\n",
       "Arrest                    False\n",
       "Domestic                   True\n",
       "Beat                        921\n",
       "Year                       2019\n",
       "Month                         7\n",
       "Week                         27\n",
       "Day                           3\n",
       "Hour                         23\n",
       "Watch                     Third\n",
       "PRCP                       0.38\n",
       "SNOW                          0\n",
       "TMAX                         86\n",
       "TMIN                         71\n",
       "category_1              serious\n",
       "category_2             property\n",
       "count_l_stops                 0\n",
       "count_bus_stops              31\n",
       "count_metra_stops             0\n",
       "count_restaurants            47\n",
       "count_bars                    5\n",
       "count_daycares                4\n",
       "count_entertainment           3\n",
       "count_businesses            109\n",
       "road_distance_ft         170885\n",
       "TOTAL POPULATION        14053.8\n",
       "dist_to_police          14116.8\n",
       "dist_to_hospital        13160.5\n",
       "Name: 1200400, dtype: object"
      ]
     },
     "execution_count": 11,
     "metadata": {},
     "output_type": "execute_result"
    }
   ],
   "source": [
    "# Pulling random data point.\n",
    "\n",
    "df.iloc[1200400]"
   ]
  },
  {
   "cell_type": "code",
   "execution_count": 13,
   "metadata": {
    "scrolled": false
   },
   "outputs": [
    {
     "data": {
      "image/png": "[encoded data removed]",
      "text/plain": [
       "<Figure size 432x288 with 1 Axes>"
      ]
     },
     "metadata": {
      "needs_background": "light"
     },
     "output_type": "display_data"
    }
   ],
   "source": [
    "# Crime Count by month (5 year aggregate).\n",
    "\n",
    "month_counts = df.groupby(by = [df.Month]).count()\n",
    "\n",
    "month_counts['ID'].plot(kind='line')\n",
    "plt.xticks(month_counts.index, rotation=0, size=8, ha='right')\n",
    "plt.xlabel('Month')\n",
    "plt.ylabel('Number of reports')\n",
    "plt.ylim((100000,150000))\n",
    "plt.title('Number of reported crimes per month, \\nChicago 2015 to Present')\n",
    "plt.show()"
   ]
  },
  {
   "cell_type": "code",
   "execution_count": 14,
   "metadata": {},
   "outputs": [
    {
     "data": {
      "image/png": "[encoded data removed]",
      "text/plain": [
       "<Figure size 432x288 with 1 Axes>"
      ]
     },
     "metadata": {
      "needs_background": "light"
     },
     "output_type": "display_data"
    }
   ],
   "source": [
    "# Crime Count by time of day (5 year aggregate).\n",
    "\n",
    "hour_counts = df.groupby(by = [df.Hour]).count()\n",
    "\n",
    "hour_counts['ID'].plot(kind='line')\n",
    "plt.xticks(hour_counts.index, rotation=90, size=8, ha='right')\n",
    "plt.xlabel('Hour')\n",
    "plt.ylabel('Number of reports')\n",
    "plt.ylim((15000,110000))\n",
    "plt.title('Number of reported crimes by hour, \\nChicago 2015 to 2020')\n",
    "plt.show()"
   ]
  },
  {
   "cell_type": "code",
   "execution_count": 15,
   "metadata": {},
   "outputs": [
    {
     "data": {
      "image/png": "[encoded data removed]",
      "text/plain": [
       "<Figure size 432x288 with 1 Axes>"
      ]
     },
     "metadata": {
      "needs_background": "light"
     },
     "output_type": "display_data"
    }
   ],
   "source": [
    " # Crime Count by watch/shift (5 year aggregate).\n",
    "\n",
    "watch_counts = df.groupby(by = [df.Watch]).count()\n",
    "\n",
    "hour_counts['ID'].plot(kind='bar')\n",
    "plt.xticks(rotation=0, size=8, ha='center')\n",
    "plt.xlabel('Watch')\n",
    "plt.ylabel('Number of reports')\n",
    "plt.title('Number of reported crimes by Watch, \\nChicago 2015 to 2020')\n",
    "plt.show()"
   ]
  },
  {
   "cell_type": "code",
   "execution_count": 16,
   "metadata": {
    "scrolled": true
   },
   "outputs": [
    {
     "data": {
      "image/png": "[encoded data removed]",
      "text/plain": [
       "<Figure size 432x288 with 1 Axes>"
      ]
     },
     "metadata": {
      "needs_background": "light"
     },
     "output_type": "display_data"
    }
   ],
   "source": [
    "# Crime Count by maximum daily temperature (5 year aggregate).\n",
    "\n",
    "temp_counts = df.groupby(by = [df.TMAX]).count()\n",
    "\n",
    "hour_counts['ID'].plot(kind='line')\n",
    "plt.xticks(rotation=90, size=8, ha='center')\n",
    "plt.xlabel('Max Temp')\n",
    "plt.ylabel('Number of reports')\n",
    "plt.title('Number of reported crimes by Daily Max Temperature, \\nChicago 2015 to 2020')\n",
    "plt.show()"
   ]
  },
  {
   "cell_type": "code",
   "execution_count": 17,
   "metadata": {},
   "outputs": [
    {
     "data": {
      "image/png": "[encoded data removed]",
      "text/plain": [
       "<Figure size 432x288 with 1 Axes>"
      ]
     },
     "metadata": {
      "needs_background": "light"
     },
     "output_type": "display_data"
    }
   ],
   "source": [
    "# Crime Count by week (5 year aggregate).\n",
    "\n",
    "week_counts = df.groupby(by = [df.Week]).count()\n",
    "\n",
    "week_counts['ID'].plot(kind='line')\n",
    "plt.xticks(rotation=90, size=8, ha='right')\n",
    "plt.xlabel('Week')\n",
    "plt.ylabel('Number of reports')\n",
    "plt.ylim((25000,36000))\n",
    "plt.xlim((1,51))\n",
    "plt.title('Number of reported crimes by week, \\nChicago 2015 to 2020')\n",
    "plt.show()"
   ]
  },
  {
   "cell_type": "code",
   "execution_count": 18,
   "metadata": {},
   "outputs": [
    {
     "name": "stdout",
     "output_type": "stream",
     "text": [
      "Week/ Watch max count: 5221\n",
      "Week/ Watch min count: 1569\n",
      "Week/ Watch median: 3908.5\n"
     ]
    }
   ],
   "source": [
    "#Number of week/watch counts for a two-year period.\n",
    "\n",
    "week_watch_count = df[df['Year'].between(2017, 2018, inclusive=True)].groupby(['Week', 'Watch']).count()\n",
    "print ('Week/ Watch max count:', week_watch_count['ID'].max())\n",
    "print ('Week/ Watch min count:', week_watch_count['ID'].min())\n",
    "print ('Week/ Watch median:', week_watch_count['ID'].median())\n"
   ]
  },
  {
   "cell_type": "code",
   "execution_count": 19,
   "metadata": {},
   "outputs": [
    {
     "name": "stdout",
     "output_type": "stream",
     "text": [
      "Month/ Hour max count: 16634\n",
      "Month/ Hour min count: 3867\n",
      "Month/ Hour median: 12606.5\n"
     ]
    }
   ],
   "source": [
    "#Number of month/hour counts for a two-year period.\n",
    "\n",
    "week_watch_count = df[df['Year'].between(2017, 2018, inclusive=True)].groupby(['Year', 'Hour']).count()\n",
    "print ('Month/ Hour max count:', week_watch_count['ID'].max())\n",
    "print ('Month/ Hour min count:', week_watch_count['ID'].min())\n",
    "print ('Month/ Hour median:', week_watch_count['ID'].median())"
   ]
  },
  {
   "cell_type": "code",
   "execution_count": 20,
   "metadata": {},
   "outputs": [],
   "source": [
    "df.to_csv(\"../intermediate_data/df_2015_to_present.csv\", index = False)"
   ]
  },
  {
   "cell_type": "code",
   "execution_count": 28,
   "metadata": {},
   "outputs": [
    {
     "data": {
      "text/plain": [
       "Index(['ID', 'Arrest', 'Domestic', 'Beat', 'Year', 'Month', 'Week', 'Day',\n",
       "       'Hour', 'Watch', 'PRCP', 'SNOW', 'TMAX', 'TMIN', 'category_1',\n",
       "       'category_2', 'count_l_stops', 'count_bus_stops', 'count_metra_stops',\n",
       "       'count_restaurants', 'count_bars', 'count_daycares',\n",
       "       'count_entertainment', 'count_businesses', 'road_distance_ft',\n",
       "       'TOTAL POPULATION', 'dist_to_police', 'dist_to_hospital'],\n",
       "      dtype='object')"
      ]
     },
     "execution_count": 28,
     "metadata": {},
     "output_type": "execute_result"
    }
   ],
   "source": [
    "df.columns"
   ]
  }
 ],
 "metadata": {
  "kernelspec": {
   "display_name": "Python 3",
   "language": "python",
   "name": "python3"
  },
  "language_info": {
   "codemirror_mode": {
    "name": "ipython",
    "version": 3
   },
   "file_extension": ".py",
   "mimetype": "text/x-python",
   "name": "python",
   "nbconvert_exporter": "python",
   "pygments_lexer": "ipython3",
   "version": "3.8.5"
  }
 },
 "nbformat": 4,
 "nbformat_minor": 4
}
