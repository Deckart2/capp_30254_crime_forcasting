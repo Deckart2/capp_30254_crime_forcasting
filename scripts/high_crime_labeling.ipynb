{
 "cells": [
  {
   "cell_type": "code",
   "execution_count": 2,
   "metadata": {},
   "outputs": [
    {
     "name": "stderr",
     "output_type": "stream",
     "text": [
      "/Users/marielwiechers/my_env/lib/python3.9/site-packages/geopandas/_compat.py:106: UserWarning: The Shapely GEOS version (3.8.0-CAPI-1.13.1 ) is incompatible with the GEOS version PyGEOS was compiled with (3.9.0-CAPI-1.16.2). Conversions between both will be slow.\n",
      "  warnings.warn(\n"
     ]
    }
   ],
   "source": [
    "# Importing relevant packages, loading relevant data.\n",
    "\n",
    "import numpy as np\n",
    "import pandas as pd\n",
    "import matplotlib.pyplot as plt\n",
    "import seaborn as sns\n",
    "import geopandas as gpd\n",
    "from geopandas import GeoDataFrame\n",
    "from shapely.geometry import Point\n",
    "import warnings\n",
    "warnings.filterwarnings('ignore')"
   ]
  },
  {
   "cell_type": "code",
   "execution_count": 3,
   "metadata": {},
   "outputs": [],
   "source": [
    "crime_df = pd.read_csv('/Users/marielwiechers/Documents/MSCAPP/Spring 2021/Machine Learning/Crime project/Crimes_-_2015_to_Present.csv')\n"
   ]
  },
  {
   "cell_type": "code",
   "execution_count": 4,
   "metadata": {},
   "outputs": [],
   "source": [
    "crime_class_df = pd.read_csv('../raw_data/Crimes_classes.csv')\n",
    "beats_df = pd.read_csv('../intermediate_data/beats.csv')\n",
    "weather_df = pd.read_csv('../raw_data/weather_2015-2020.csv')"
   ]
  },
  {
   "cell_type": "code",
   "execution_count": 5,
   "metadata": {},
   "outputs": [],
   "source": [
    "# Transforming crime data to datetime, indexing by such, limiting data to 2015-2020.\n",
    "crime_df['Date'] = pd.to_datetime(crime_df['Date'])\n",
    "crime_df = crime_df.set_index('Date')\n",
    "crime_df = crime_df['20150101' : '20201231']"
   ]
  },
  {
   "cell_type": "code",
   "execution_count": 6,
   "metadata": {},
   "outputs": [],
   "source": [
    "# Creating features for month, week of the current year, day of the week, and hour of day .\n",
    "\n",
    "crime_df['Month'] = crime_df.index.month\n",
    "crime_df['Week'] = crime_df.index.week\n",
    "crime_df['Day'] = crime_df.index.day\n",
    "crime_df['Hour'] = crime_df.index.hour\n",
    "\n",
    "def find_watch(n):\n",
    "    if 0 <= n < 8:\n",
    "        return 'First'\n",
    "    elif 8 <= n < 16:\n",
    "        return 'Second'\n",
    "    elif 16 <= n:\n",
    "        return 'Third'\n",
    "        \n",
    "\n",
    "crime_df['Watch'] = crime_df['Hour'].apply(find_watch)\n",
    "\n",
    "crime_df.index = crime_df.index.date"
   ]
  },
  {
   "cell_type": "code",
   "execution_count": 7,
   "metadata": {},
   "outputs": [],
   "source": [
    "# Transforming weather data to datetime, indexing by such.\n",
    "\n",
    "weather_df['Date'] = pd.to_datetime(weather_df['DATE'])\n",
    "weather_df = weather_df.set_index('Date')"
   ]
  },
  {
   "cell_type": "code",
   "execution_count": 8,
   "metadata": {},
   "outputs": [],
   "source": [
    "# Merging weather data to crime data.\n",
    "\n",
    "crime_df = pd.merge(crime_df, weather_df, how = 'left', left_index = True, right_index = True)"
   ]
  },
  {
   "cell_type": "code",
   "execution_count": 9,
   "metadata": {},
   "outputs": [],
   "source": [
    "# Preparing crime classes to merge into crime data, and merging.\n",
    "\n",
    "for index, row in crime_class_df.iterrows():\n",
    "    if len(row['crime_id']) == 3:\n",
    "        row['crime_id'] = '0' + row['crime_id']\n",
    "\n",
    "df = pd.merge(crime_df, crime_class_df, how = 'left', left_on = 'IUCR', right_on = 'crime_id')"
   ]
  },
  {
   "cell_type": "code",
   "execution_count": 10,
   "metadata": {},
   "outputs": [],
   "source": [
    "df.loc[df.category_1 == 'serious', 'serious'] = 1\n",
    "df.serious.fillna(0, inplace=True)"
   ]
  },
  {
   "cell_type": "code",
   "execution_count": 11,
   "metadata": {},
   "outputs": [],
   "source": [
    "# Dropping undesired features.\n",
    "\n",
    "col_list = ['ID','Arrest', 'Domestic', 'Beat', 'Year', 'Month', 'Watch', \n",
    "            'PRCP', 'SNOW','TMAX', 'TMIN', 'serious']\n",
    "\n",
    "df_filtered = df.filter(col_list)"
   ]
  },
  {
   "cell_type": "code",
   "execution_count": 30,
   "metadata": {},
   "outputs": [],
   "source": [
    "groups = df_filtered[['Year','Month','Watch','Beat']]"
   ]
  },
  {
   "cell_type": "code",
   "execution_count": 31,
   "metadata": {},
   "outputs": [],
   "source": [
    "groups = groups.merge(df_filtered.groupby(['Year','Month', 'Watch','Beat'])['ID'].count().reset_index()).drop_duplicates()\n",
    "\n",
    "groups = groups.merge(df_filtered.groupby(['Year','Month', 'Watch','Beat'])['serious'].sum().reset_index())\n",
    "groups = groups.merge(df_filtered.groupby(['Year','Month', 'Watch','Beat'])['Arrest'].sum().reset_index())\n",
    "groups = groups.merge(df_filtered.groupby(['Year','Month', 'Watch','Beat'])['Domestic'].sum().reset_index())"
   ]
  },
  {
   "cell_type": "code",
   "execution_count": 32,
   "metadata": {},
   "outputs": [],
   "source": [
    "groups = groups.merge(df_filtered.groupby(['Year','Month', 'Watch'])['TMAX'].mean().reset_index(), how='left')\n",
    "groups = groups.merge(df_filtered.groupby(['Year','Month', 'Watch'])['TMIN'].mean().reset_index(), how='left')\n",
    "groups = groups.merge(df_filtered.groupby(['Year','Month', 'Watch'])['PRCP'].mean().reset_index(), how='left')\n",
    "groups = groups.merge(df_filtered.groupby(['Year','Month', 'Watch'])['SNOW'].mean().reset_index(), how='left')\n",
    "\n",
    "groups.rename({'ID':'Total', 'serious':'Serious'}, axis=1, inplace=True)"
   ]
  },
  {
   "cell_type": "code",
   "execution_count": 33,
   "metadata": {},
   "outputs": [
    {
     "data": {
      "text/html": [
       "<div>\n",
       "<style scoped>\n",
       "    .dataframe tbody tr th:only-of-type {\n",
       "        vertical-align: middle;\n",
       "    }\n",
       "\n",
       "    .dataframe tbody tr th {\n",
       "        vertical-align: top;\n",
       "    }\n",
       "\n",
       "    .dataframe thead th {\n",
       "        text-align: right;\n",
       "    }\n",
       "</style>\n",
       "<table border=\"1\" class=\"dataframe\">\n",
       "  <thead>\n",
       "    <tr style=\"text-align: right;\">\n",
       "      <th></th>\n",
       "      <th>Year</th>\n",
       "      <th>Month</th>\n",
       "      <th>Watch</th>\n",
       "      <th>Beat</th>\n",
       "      <th>Total</th>\n",
       "      <th>Serious</th>\n",
       "      <th>Arrest</th>\n",
       "      <th>Domestic</th>\n",
       "      <th>TMAX</th>\n",
       "      <th>TMIN</th>\n",
       "      <th>PRCP</th>\n",
       "      <th>SNOW</th>\n",
       "    </tr>\n",
       "  </thead>\n",
       "  <tbody>\n",
       "    <tr>\n",
       "      <th>0</th>\n",
       "      <td>2015</td>\n",
       "      <td>1</td>\n",
       "      <td>First</td>\n",
       "      <td>411</td>\n",
       "      <td>16</td>\n",
       "      <td>9.0</td>\n",
       "      <td>3</td>\n",
       "      <td>5</td>\n",
       "      <td>33.294118</td>\n",
       "      <td>20.394993</td>\n",
       "      <td>0.048605</td>\n",
       "      <td>0.302474</td>\n",
       "    </tr>\n",
       "    <tr>\n",
       "      <th>1</th>\n",
       "      <td>2015</td>\n",
       "      <td>1</td>\n",
       "      <td>First</td>\n",
       "      <td>1532</td>\n",
       "      <td>24</td>\n",
       "      <td>13.0</td>\n",
       "      <td>9</td>\n",
       "      <td>7</td>\n",
       "      <td>33.294118</td>\n",
       "      <td>20.394993</td>\n",
       "      <td>0.048605</td>\n",
       "      <td>0.302474</td>\n",
       "    </tr>\n",
       "    <tr>\n",
       "      <th>2</th>\n",
       "      <td>2015</td>\n",
       "      <td>1</td>\n",
       "      <td>First</td>\n",
       "      <td>2024</td>\n",
       "      <td>7</td>\n",
       "      <td>6.0</td>\n",
       "      <td>1</td>\n",
       "      <td>0</td>\n",
       "      <td>33.294118</td>\n",
       "      <td>20.394993</td>\n",
       "      <td>0.048605</td>\n",
       "      <td>0.302474</td>\n",
       "    </tr>\n",
       "    <tr>\n",
       "      <th>3</th>\n",
       "      <td>2015</td>\n",
       "      <td>1</td>\n",
       "      <td>First</td>\n",
       "      <td>223</td>\n",
       "      <td>11</td>\n",
       "      <td>8.0</td>\n",
       "      <td>0</td>\n",
       "      <td>4</td>\n",
       "      <td>33.294118</td>\n",
       "      <td>20.394993</td>\n",
       "      <td>0.048605</td>\n",
       "      <td>0.302474</td>\n",
       "    </tr>\n",
       "    <tr>\n",
       "      <th>4</th>\n",
       "      <td>2015</td>\n",
       "      <td>1</td>\n",
       "      <td>First</td>\n",
       "      <td>214</td>\n",
       "      <td>8</td>\n",
       "      <td>8.0</td>\n",
       "      <td>1</td>\n",
       "      <td>2</td>\n",
       "      <td>33.294118</td>\n",
       "      <td>20.394993</td>\n",
       "      <td>0.048605</td>\n",
       "      <td>0.302474</td>\n",
       "    </tr>\n",
       "  </tbody>\n",
       "</table>\n",
       "</div>"
      ],
      "text/plain": [
       "   Year  Month  Watch  Beat  Total  Serious  Arrest  Domestic       TMAX  \\\n",
       "0  2015      1  First   411     16      9.0       3         5  33.294118   \n",
       "1  2015      1  First  1532     24     13.0       9         7  33.294118   \n",
       "2  2015      1  First  2024      7      6.0       1         0  33.294118   \n",
       "3  2015      1  First   223     11      8.0       0         4  33.294118   \n",
       "4  2015      1  First   214      8      8.0       1         2  33.294118   \n",
       "\n",
       "        TMIN      PRCP      SNOW  \n",
       "0  20.394993  0.048605  0.302474  \n",
       "1  20.394993  0.048605  0.302474  \n",
       "2  20.394993  0.048605  0.302474  \n",
       "3  20.394993  0.048605  0.302474  \n",
       "4  20.394993  0.048605  0.302474  "
      ]
     },
     "execution_count": 33,
     "metadata": {},
     "output_type": "execute_result"
    }
   ],
   "source": [
    "groups.head()"
   ]
  },
  {
   "cell_type": "code",
   "execution_count": 34,
   "metadata": {},
   "outputs": [],
   "source": [
    "groups['rank'] = groups.groupby(['Year','Month'])['Serious'].rank(pct=True)\n",
    "groups.loc[groups['rank'] > .75, \"high_crime\"] = 1\n",
    "groups['high_crime'].fillna(0, inplace=True)\n",
    "groups.drop('rank', axis = 1, inplace=True)"
   ]
  },
  {
   "cell_type": "code",
   "execution_count": 35,
   "metadata": {},
   "outputs": [],
   "source": [
    "# Merging beat data to crime data.  \n",
    "\n",
    "crime_df = pd.merge(groups, beats_df, how = 'left', left_on = 'Beat', right_on = 'beat_num')"
   ]
  },
  {
   "cell_type": "code",
   "execution_count": 36,
   "metadata": {},
   "outputs": [
    {
     "name": "stdout",
     "output_type": "stream",
     "text": [
      "<class 'pandas.core.frame.DataFrame'>\n",
      "Int64Index: 59093 entries, 0 to 59092\n",
      "Data columns (total 30 columns):\n",
      " #   Column               Non-Null Count  Dtype  \n",
      "---  ------               --------------  -----  \n",
      " 0   Year                 59093 non-null  int64  \n",
      " 1   Month                59093 non-null  int64  \n",
      " 2   Watch                59093 non-null  object \n",
      " 3   Beat                 59093 non-null  int64  \n",
      " 4   Total                59093 non-null  int64  \n",
      " 5   Serious              59093 non-null  float64\n",
      " 6   Arrest               59093 non-null  int64  \n",
      " 7   Domestic             59093 non-null  int64  \n",
      " 8   TMAX                 59093 non-null  float64\n",
      " 9   TMIN                 59093 non-null  float64\n",
      " 10  PRCP                 59093 non-null  float64\n",
      " 11  SNOW                 59093 non-null  float64\n",
      " 12  high_crime           59093 non-null  float64\n",
      " 13  Unnamed: 0           59093 non-null  int64  \n",
      " 14  beat                 59093 non-null  int64  \n",
      " 15  beat_num             59093 non-null  int64  \n",
      " 16  district             59093 non-null  int64  \n",
      " 17  sector               59093 non-null  int64  \n",
      " 18  count_l_stops        59093 non-null  float64\n",
      " 19  count_bus_stops      59093 non-null  float64\n",
      " 20  count_metra_stops    59093 non-null  float64\n",
      " 21  count_restaurants    59093 non-null  float64\n",
      " 22  count_bars           59093 non-null  float64\n",
      " 23  count_daycares       59093 non-null  float64\n",
      " 24  count_entertainment  59093 non-null  float64\n",
      " 25  count_businesses     59093 non-null  float64\n",
      " 26  road_distance_ft     59093 non-null  float64\n",
      " 27  TOTAL POPULATION     59093 non-null  float64\n",
      " 28  dist_to_police       59093 non-null  float64\n",
      " 29  dist_to_hospital     59093 non-null  float64\n",
      "dtypes: float64(18), int64(11), object(1)\n",
      "memory usage: 14.0+ MB\n"
     ]
    }
   ],
   "source": [
    "crime_df.info()"
   ]
  },
  {
   "cell_type": "code",
   "execution_count": 37,
   "metadata": {},
   "outputs": [],
   "source": [
    "crime_df.drop([\"Unnamed: 0\", 'beat'], axis=1, inplace=True)"
   ]
  },
  {
   "cell_type": "code",
   "execution_count": 38,
   "metadata": {},
   "outputs": [],
   "source": [
    "crime_df.to_csv(\"../intermediate_data/high_crime(with PRCP).csv\")"
   ]
  }
 ],
 "metadata": {
  "kernelspec": {
   "display_name": "Python 3",
   "language": "python",
   "name": "python3"
  },
  "language_info": {
   "codemirror_mode": {
    "name": "ipython",
    "version": 3
   },
   "file_extension": ".py",
   "mimetype": "text/x-python",
   "name": "python",
   "nbconvert_exporter": "python",
   "pygments_lexer": "ipython3",
   "version": "3.9.2"
  }
 },
 "nbformat": 4,
 "nbformat_minor": 4
}
