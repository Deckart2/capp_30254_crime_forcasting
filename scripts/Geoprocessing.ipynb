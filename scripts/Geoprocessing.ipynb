{
 "cells": [
  {
   "cell_type": "markdown",
   "metadata": {},
   "source": [
    "# Script to Process Geospatial data to the Police Beat"
   ]
  },
  {
   "cell_type": "markdown",
   "metadata": {},
   "source": [
    "Gabe Morrison"
   ]
  },
  {
   "cell_type": "code",
   "execution_count": 1,
   "metadata": {},
   "outputs": [],
   "source": [
    "#library imports: \n",
    "import numpy as np\n",
    "import pandas as pd\n",
    "import geopandas as gpd"
   ]
  },
  {
   "cell_type": "code",
   "execution_count": 2,
   "metadata": {},
   "outputs": [],
   "source": [
    "#The below function reads in the spatial data and sets a CRS. CRS (coordinate reference systems) determine \n",
    "# how spatial 3D data (because globe is round) get converted into a 2D plane. \n",
    "#The CRS I picked is ESPG 3435 which is targetted for Eastern Illinois.  \n",
    "\n",
    "def read_spatial(path):\n",
    "    '''\n",
    "    Function to read spatial data and converts to ESPG 3435\n",
    "    Input: path to the data file\n",
    "    Output: a gpd object \n",
    "    '''\n",
    "    file=gpd.read_file(path)\n",
    "    file=file.to_crs(\"EPSG:3435\")\n",
    "    return file"
   ]
  },
  {
   "cell_type": "code",
   "execution_count": 3,
   "metadata": {},
   "outputs": [],
   "source": [
    "beats = read_spatial(\"../raw_data/Boundaries - Police Beats (current).geojson\")\n",
    "l = read_spatial(\"../raw_data/CTA_RailStations\")\n",
    "bus = read_spatial(\"../raw_data/CTA_BusStops\")\n",
    "metra = read_spatial(\"../raw_data/Metra_Stations\")\n",
    "streets = read_spatial(\"../raw_data/Street Center Lines.geojson\")"
   ]
  },
  {
   "cell_type": "code",
   "execution_count": 4,
   "metadata": {},
   "outputs": [],
   "source": [
    "#Function to add point data to the beats polygon dataset\n",
    "#Specifically, this function first performs a \"spatial join\" each point in the \"other dataset\" (ex bus station)\n",
    "#gets the name of the police beat it is in in a new column (\"beat_num\")\n",
    "#Then I group by and count the number of points in each beat and join that to the beat dataset\n",
    "\n",
    "\n",
    "def join_to_beats(polygon_data, poly_unique_id, other_file, new_column_name):\n",
    "    '''\n",
    "    A function that creates a new beats gpd with an updated column \n",
    "        to count the number of points from the other_file \n",
    "    Inputs:\n",
    "        polygon_data (gpd): the beats gpd (as a polygon)\n",
    "        poly_unique_id (string): the unique identifier of the polygon spatial data\n",
    "        other_file (gpd): another point-based gpd. The number of points in each beat will \n",
    "                    be added to the beats as a new column\n",
    "        new_column_name (string): the name of the column to be added to the beats dataframe\n",
    "    Output:\n",
    "        the polygon_data dataframe updated with the new column\n",
    "    Note: .size suggestion from here: https://stackoverflow.com/questions/19384532/get-statistics-for-each-group-such-as-count-mean-etc-using-pandas-groupby\n",
    "    '''\n",
    "    spatial_join = gpd.sjoin(other_file, \n",
    "                             polygon_data[[poly_unique_id, \"geometry\"]], \n",
    "                             how=\"inner\", \n",
    "                             op='intersects')\n",
    "    count = spatial_join.groupby(poly_unique_id).size().reset_index(name=new_column_name)\n",
    "    updated_polygon_data = polygon_data.merge(count, on=poly_unique_id, how=\"left\")\n",
    "    updated_polygon_data[new_column_name].fillna(0, inplace=True)\n",
    "    return updated_polygon_data"
   ]
  },
  {
   "cell_type": "code",
   "execution_count": 5,
   "metadata": {},
   "outputs": [],
   "source": [
    "#Run above function to add point data to the beats\n",
    "beats = join_to_beats(beats, \"beat_num\", l, \"count_l_stops\")\n",
    "beats = join_to_beats(beats, \"beat_num\", bus, \"count_bus_stops\")\n",
    "beats = join_to_beats(beats, \"beat_num\", metra, \"count_metra_stops\")"
   ]
  },
  {
   "cell_type": "code",
   "execution_count": 6,
   "metadata": {},
   "outputs": [],
   "source": [
    "#Filter Out non-pedestrian Streets (ie highways):\n",
    "#Syntax help: https://www.kite.com/python/answers/how-to-filter-a-pandas-dataframe-with-a-list-by-%60in%60-or-%60not-in%60-in-python\n",
    "streets_do_not_want = [\"ER\", \"EXPY\", \"HWY\", \"PKWY\", \"ORD\", \"XR\", \"TOLL\"]\n",
    "street_filter = ~streets.street_typ.isin(streets_do_not_want)\n",
    "streets = streets[street_filter]"
   ]
  },
  {
   "cell_type": "code",
   "execution_count": 9,
   "metadata": {},
   "outputs": [],
   "source": [
    "#Spatial operation to get all strings into exactly one polygon\n",
    "#Help on overlay code here::https://stackoverflow.com/questions/60794994/geopandas-split-lines-at-intersection-with-polygons-retain-polygon-id-in-new\n",
    "#Help with renaming after groupby: https://stackoverflow.com/questions/44416287/renaming-columns-after-group-by-and-sum-in-pandas-dataframe\n",
    "\n",
    "#First: separate line segments so that they fall into exactly one police beat\n",
    "#Second: same spatial join as above\n",
    "#Third: Compute distance (in feet) of each segment\n",
    "#Fourth/Fifth: Keep only the beat_num and distance columns\n",
    "#Sixth:group by beat and sum all distances in the beat\n",
    "#seventh:Add the column with the summarized distances back to the beat dataset\n",
    "\n",
    "\n",
    "streets_separated = gpd.overlay(streets, beats, how=\"union\", keep_geom_type=False).explode().reset_index(drop=True)\n",
    "streets_separated = gpd.sjoin(streets_separated, \n",
    "                             beats[[\"beat_num\", \"geometry\"]], \n",
    "                             how=\"inner\", \n",
    "                             op='intersects')\n",
    "streets_separated[\"distance\"]= streets_separated[\"geometry\"].length\n",
    "streets_separated = streets_separated[[\"beat_num_left\", \"distance\"]]\n",
    "streets_separated.rename(columns={\"beat_num_left\":\"beat_num\"}, inplace=True)\n",
    "streets_separated = streets_separated.groupby(\"beat_num\").sum(\"distance\").reset_index().rename(columns={'distance':'road_distance_ft'})\n",
    "beats = beats.merge(streets_separated, how =\"left\", on=\"beat_num\")"
   ]
  },
  {
   "cell_type": "code",
   "execution_count": null,
   "metadata": {},
   "outputs": [],
   "source": [
    "beats"
   ]
  },
  {
   "cell_type": "code",
   "execution_count": null,
   "metadata": {},
   "outputs": [],
   "source": []
  },
  {
   "cell_type": "code",
   "execution_count": null,
   "metadata": {},
   "outputs": [],
   "source": []
  },
  {
   "cell_type": "code",
   "execution_count": null,
   "metadata": {},
   "outputs": [],
   "source": []
  }
 ],
 "metadata": {
  "kernelspec": {
   "display_name": "Python 3",
   "language": "python",
   "name": "python3"
  },
  "language_info": {
   "codemirror_mode": {
    "name": "ipython",
    "version": 3
   },
   "file_extension": ".py",
   "mimetype": "text/x-python",
   "name": "python",
   "nbconvert_exporter": "python",
   "pygments_lexer": "ipython3",
   "version": "3.8.5"
  }
 },
 "nbformat": 4,
 "nbformat_minor": 4
}
