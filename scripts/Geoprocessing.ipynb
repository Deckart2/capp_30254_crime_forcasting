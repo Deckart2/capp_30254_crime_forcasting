{
 "cells": [
  {
   "cell_type": "markdown",
   "metadata": {},
   "source": [
    "# Compile Beats Dataset"
   ]
  },
  {
   "cell_type": "code",
   "execution_count": 17,
   "metadata": {},
   "outputs": [],
   "source": [
    "#library imports: \n",
    "import numpy as np\n",
    "import pandas as pd\n",
    "import geopandas as gpd\n",
    "import geoplot\n",
    "import libpysal as lp\n",
    "import shapely"
   ]
  },
  {
   "cell_type": "code",
   "execution_count": null,
   "metadata": {},
   "outputs": [],
   "source": []
  },
  {
   "cell_type": "code",
   "execution_count": 4,
   "metadata": {},
   "outputs": [
    {
     "name": "stdout",
     "output_type": "stream",
     "text": [
      "../raw_data/Boundaries - Police Beats (current).geojson EPSG:3435\n",
      "../raw_data/Boundaries - Census Blocks - 2010.geojson EPSG:3435\n"
     ]
    }
   ],
   "source": [
    "#Run helper script to get helper functions\n",
    "%run geoprocessing_helpers.ipynb"
   ]
  },
  {
   "cell_type": "markdown",
   "metadata": {},
   "source": [
    "# Importation and Data Setup:"
   ]
  },
  {
   "cell_type": "code",
   "execution_count": 19,
   "metadata": {},
   "outputs": [
    {
     "name": "stdout",
     "output_type": "stream",
     "text": [
      "../raw_data/Boundaries - Police Beats (current).geojson EPSG:3435\n",
      "../raw_data/CTA_RailStations epsg:3435\n",
      "../raw_data/CTA_BusStops EPSG:3435\n",
      "../raw_data/Metra_Stations epsg:3435\n",
      "../raw_data/Street Center Lines.geojson EPSG:3435\n",
      "../intermediate_data/bus_geog EPSG:3435\n"
     ]
    }
   ],
   "source": [
    "#Read Data\n",
    "beats = read_spatial(\"../raw_data/Boundaries - Police Beats (current).geojson\")\n",
    "l = read_spatial(\"../raw_data/CTA_RailStations\")\n",
    "bus = read_spatial(\"../raw_data/CTA_BusStops\")\n",
    "metra = read_spatial(\"../raw_data/Metra_Stations\")\n",
    "streets = read_spatial(\"../raw_data/Street Center Lines.geojson\")\n",
    "bus_data = read_spatial(\"../intermediate_data/bus_geog\")\n",
    "\n",
    "#Separate business data\n",
    "rest = bus_data[bus_data[\"category\"]==\"restaurant\"]\n",
    "bar = bus_data[bus_data[\"category\"]==\"bar\"]\n",
    "business = bus_data[bus_data[\"category\"]==\"business\"]\n",
    "daycare = bus_data[bus_data[\"category\"]==\"daycare\"]\n",
    "entertainment = bus_data[bus_data[\"category\"]==\"entertainment\"]"
   ]
  },
  {
   "cell_type": "markdown",
   "metadata": {},
   "source": [
    "# Aggregate Point to Beats Data"
   ]
  },
  {
   "cell_type": "code",
   "execution_count": 20,
   "metadata": {},
   "outputs": [],
   "source": [
    "beats = join_to_beats(beats, \"beat_num\", l, \"count_l_stops\")\n",
    "beats = join_to_beats(beats, \"beat_num\", bus, \"count_bus_stops\")\n",
    "beats = join_to_beats(beats, \"beat_num\", metra, \"count_metra_stops\")\n",
    "beats = join_to_beats(beats, \"beat_num\", rest, \"count_restaurants\")\n",
    "beats = join_to_beats(beats, \"beat_num\", bar, \"count_bars\")\n",
    "beats = join_to_beats(beats, \"beat_num\", daycare, \"count_daycares\")\n",
    "beats = join_to_beats(beats, \"beat_num\", entertainment, \"count_entertainment\")\n",
    "beats = join_to_beats(beats, \"beat_num\", business, \"count_businesses\")"
   ]
  },
  {
   "cell_type": "markdown",
   "metadata": {},
   "source": [
    "# Handle Street Data"
   ]
  },
  {
   "cell_type": "code",
   "execution_count": 21,
   "metadata": {},
   "outputs": [],
   "source": [
    "#Filter Out non-pedestrian Streets (ie highways):\n",
    "#Syntax help: https://www.kite.com/python/answers/how-to-filter-a-pandas-dataframe-with-a-list-by-%60in%60-or-%60not-in%60-in-python\n",
    "streets_do_not_want = [\"ER\", \"EXPY\", \"HWY\", \"PKWY\", \"ORD\", \"XR\", \"TOLL\"]\n",
    "street_filter = ~streets.street_typ.isin(streets_do_not_want)\n",
    "streets = streets[street_filter]"
   ]
  },
  {
   "cell_type": "code",
   "execution_count": 22,
   "metadata": {},
   "outputs": [],
   "source": [
    "#Spatial operation to get all strings into exactly one polygon\n",
    "#Help on overlay code here::https://stackoverflow.com/questions/60794994/geopandas-split-lines-at-intersection-with-polygons-retain-polygon-id-in-new\n",
    "#Help with renaming after groupby: https://stackoverflow.com/questions/44416287/renaming-columns-after-group-by-and-sum-in-pandas-dataframe\n",
    "\n",
    "#First: separate line segments so that they fall into exactly one police beat\n",
    "#Second: same spatial join as above\n",
    "#Third: Compute distance (in feet) of each segment\n",
    "#Fourth/Fifth: Keep only the beat_num and distance columns\n",
    "#Sixth:group by beat and sum all distances in the beat\n",
    "#seventh:Add the column with the summarized distances back to the beat dataset\n",
    "\n",
    "\n",
    "streets_separated = gpd.overlay(streets, beats, how=\"union\", keep_geom_type=False).explode().reset_index(drop=True)\n",
    "streets_separated = gpd.sjoin(streets_separated, \n",
    "                             beats[[\"beat_num\", \"geometry\"]], \n",
    "                             how=\"inner\", \n",
    "                             op='intersects')\n",
    "streets_separated[\"distance\"]= streets_separated[\"geometry\"].length\n",
    "streets_separated = streets_separated[[\"beat_num_left\", \"distance\"]]\n",
    "streets_separated.rename(columns={\"beat_num_left\":\"beat_num\"}, inplace=True)\n",
    "streets_separated = streets_separated.groupby(\"beat_num\").sum(\"distance\").reset_index().rename(columns={'distance':'road_distance_ft'})\n",
    "beats = beats.merge(streets_separated, how =\"left\", on=\"beat_num\")"
   ]
  },
  {
   "cell_type": "markdown",
   "metadata": {},
   "source": [
    "# Crosswalk to Beats From Blocks: "
   ]
  },
  {
   "cell_type": "code",
   "execution_count": 29,
   "metadata": {},
   "outputs": [
    {
     "name": "stdout",
     "output_type": "stream",
     "text": [
      "../raw_data/Boundaries - Census Blocks - 2010.geojson EPSG:3435\n"
     ]
    }
   ],
   "source": [
    "#Create Crosswalk From Block to Beat:\n",
    "#Read Block spatial data and population by block\n",
    "#Then join the two\n",
    "blocks = read_spatial(\"../raw_data/Boundaries - Census Blocks - 2010.geojson\")\n",
    "pop_10 = pd.read_csv(\"../raw_data/Population_by_2010_Census_Block.csv\", \n",
    "                     dtype={\"CENSUS BLOCK FULL\":\"object\", \"CENSUS BLOCK\":\"object\"})\n",
    "blocks = blocks.merge(pop_10, left_on=\"geoid10\", right_on=\"CENSUS BLOCK FULL\", how=\"left\")"
   ]
  },
  {
   "cell_type": "code",
   "execution_count": 32,
   "metadata": {},
   "outputs": [],
   "source": [
    "beats = convert_block_to_beat(blocks, \"TOTAL POPULATION\")"
   ]
  },
  {
   "cell_type": "markdown",
   "metadata": {},
   "source": [
    "# Calculate Distance to Nearest:"
   ]
  },
  {
   "cell_type": "code",
   "execution_count": 33,
   "metadata": {},
   "outputs": [],
   "source": [
    "beats[\"centroid\"]=beats.centroid\n",
    "beats = dist_to_nearest(beats, police_station, \"centroid\", \"dist_to_police\")\n",
    "beats = dist_to_nearest(beats, hospital, \"centroid\", \"dist_to_hospital\")"
   ]
  },
  {
   "cell_type": "markdown",
   "metadata": {},
   "source": [
    "# Spatial Lag"
   ]
  },
  {
   "cell_type": "code",
   "execution_count": null,
   "metadata": {},
   "outputs": [],
   "source": [
    "#NEED TO DO THIS once we get crime code"
   ]
  },
  {
   "cell_type": "markdown",
   "metadata": {},
   "source": [
    "# Write Data"
   ]
  },
  {
   "cell_type": "code",
   "execution_count": 34,
   "metadata": {},
   "outputs": [],
   "source": [
    "beats.columns\n",
    "#ADD MORE HERE WHEN WE DO SPATIAL LAG!\n",
    "beats_to_write = beats[['beat', 'beat_num', 'district', 'sector', 'count_l_stops',\n",
    "                'count_bus_stops', 'count_metra_stops', 'count_restaurants',\n",
    "       'count_bars', 'count_daycares', 'count_entertainment',\n",
    "       'count_businesses', 'road_distance_ft', 'TOTAL POPULATION',\n",
    "       'dist_to_police', 'dist_to_hospital']]\n",
    "\n",
    "beats_to_write.to_csv(\"../intermediate_data/beats.csv\")\n",
    "\n"
   ]
  }
 ],
 "metadata": {
  "kernelspec": {
   "display_name": "Python 3",
   "language": "python",
   "name": "python3"
  },
  "language_info": {
   "codemirror_mode": {
    "name": "ipython",
    "version": 3
   },
   "file_extension": ".py",
   "mimetype": "text/x-python",
   "name": "python",
   "nbconvert_exporter": "python",
   "pygments_lexer": "ipython3",
   "version": "3.8.5"
  }
 },
 "nbformat": 4,
 "nbformat_minor": 4
}
