{
 "cells": [
  {
   "cell_type": "code",
   "execution_count": 1,
   "metadata": {},
   "outputs": [],
   "source": [
    "import numpy as np\n",
    "import pandas as pd\n",
    "import sklearn"
   ]
  },
  {
   "cell_type": "code",
   "execution_count": 13,
   "metadata": {},
   "outputs": [],
   "source": [
    "crimes = pd.read_csv(\"../intermediate_data/df_2015_to_present.csv\")"
   ]
  },
  {
   "cell_type": "code",
   "execution_count": 6,
   "metadata": {},
   "outputs": [],
   "source": [
    "#Filter to only crime-relevant columns:\n",
    "#crimes = crimes[[\"Arrest\", \"Domestic\", \"Beat\", \"Year\", \"Hour\", \"Month\", \"category_1\", \"category_2\"]]\n",
    "\n",
    "#No watch! "
   ]
  },
  {
   "cell_type": "code",
   "execution_count": 14,
   "metadata": {},
   "outputs": [
    {
     "data": {
      "text/plain": [
       "Index(['IUCR', 'Arrest', 'Domestic', 'Beat', 'Year', 'Hour', 'Month',\n",
       "       'category_1', 'category_2', 'count_l_stops', 'count_bus_stops',\n",
       "       'count_metra_stops', 'count_restaurants', 'count_bars',\n",
       "       'count_daycares', 'count_entertainment', 'count_businesses',\n",
       "       'road_distance_ft', 'TOTAL POPULATION', 'dist_to_police',\n",
       "       'dist_to_hospital'],\n",
       "      dtype='object')"
      ]
     },
     "execution_count": 14,
     "metadata": {},
     "output_type": "execute_result"
    }
   ],
   "source": [
    "crimes.columns"
   ]
  },
  {
   "cell_type": "code",
   "execution_count": null,
   "metadata": {},
   "outputs": [],
   "source": [
    "#For betwee"
   ]
  }
 ],
 "metadata": {
  "kernelspec": {
   "display_name": "Python 3",
   "language": "python",
   "name": "python3"
  },
  "language_info": {
   "codemirror_mode": {
    "name": "ipython",
    "version": 3
   },
   "file_extension": ".py",
   "mimetype": "text/x-python",
   "name": "python",
   "nbconvert_exporter": "python",
   "pygments_lexer": "ipython3",
   "version": "3.8.5"
  }
 },
 "nbformat": 4,
 "nbformat_minor": 4
}
