{
 "cells": [
  {
   "cell_type": "markdown",
   "metadata": {},
   "source": [
    "# Create Helper Functions to Process Geospatial data to the Police Beat"
   ]
  },
  {
   "cell_type": "markdown",
   "metadata": {},
   "source": [
    "Gabe Morrison"
   ]
  },
  {
   "cell_type": "markdown",
   "metadata": {},
   "source": [
    "# Read Data"
   ]
  },
  {
   "cell_type": "code",
   "execution_count": 1,
   "metadata": {},
   "outputs": [],
   "source": [
    "#library imports: \n",
    "import numpy as np\n",
    "import pandas as pd\n",
    "import geopandas as gpd\n",
    "import geoplot\n",
    "import libpysal as lp\n",
    "import shapely"
   ]
  },
  {
   "cell_type": "code",
   "execution_count": 68,
   "metadata": {},
   "outputs": [],
   "source": [
    "#The below function reads in the spatial data and sets a CRS. CRS (coordinate reference systems) determine \n",
    "# how spatial 3D data (because globe is round) get converted into a 2D plane. \n",
    "\n",
    "def read_spatial(path):\n",
    "    '''\n",
    "    Function to read spatial data and converts to ESPG 3435\n",
    "    Input: path to the data file\n",
    "    Output: a gpd object \n",
    "    '''\n",
    "    file=gpd.read_file(path)\n",
    "    file=file.to_crs(\"EPSG:3435\")\n",
    "    print(path, file.crs)\n",
    "    return file"
   ]
  },
  {
   "cell_type": "code",
   "execution_count": 69,
   "metadata": {},
   "outputs": [
    {
     "name": "stdout",
     "output_type": "stream",
     "text": [
      "../raw_data/Boundaries - Police Beats (current).geojson EPSG:3435\n",
      "../raw_data/CTA_RailStations epsg:3435\n",
      "../raw_data/CTA_BusStops EPSG:3435\n",
      "../raw_data/Metra_Stations epsg:3435\n",
      "../raw_data/Street Center Lines.geojson EPSG:3435\n",
      "../intermediate_data/bus_geog EPSG:3435\n"
     ]
    }
   ],
   "source": [
    "beats = read_spatial(\"../raw_data/Boundaries - Police Beats (current).geojson\")\n",
    "#l = read_spatial(\"../raw_data/CTA_RailStations\")\n",
    "#bus = read_spatial(\"../raw_data/CTA_BusStops\")\n",
    "#metra = read_spatial(\"../raw_data/Metra_Stations\")\n",
    "#streets = read_spatial(\"../raw_data/Street Center Lines.geojson\")\n",
    "#bus_data = read_spatial(\"../intermediate_data/bus_geog\")"
   ]
  },
  {
   "cell_type": "code",
   "execution_count": 70,
   "metadata": {},
   "outputs": [],
   "source": [
    "#rest = bus_data[bus_data[\"category\"]==\"restaurant\"]\n",
    "#bar = bus_data[bus_data[\"category\"]==\"bar\"]\n",
    "#business = bus_data[bus_data[\"category\"]==\"business\"]\n",
    "#daycare = bus_data[bus_data[\"category\"]==\"daycare\"]\n",
    "#entertainment = bus_data[bus_data[\"category\"]==\"entertainment\"]\n"
   ]
  },
  {
   "cell_type": "markdown",
   "metadata": {},
   "source": [
    "# Aggregate Point Data to Beats"
   ]
  },
  {
   "cell_type": "code",
   "execution_count": 5,
   "metadata": {},
   "outputs": [],
   "source": [
    "#Function to add point data to the beats polygon dataset\n",
    "#Specifically, this function first performs a \"spatial join\" each point in the \"other dataset\" (ex bus station)\n",
    "#gets the name of the police beat it is in in a new column (\"beat_num\")\n",
    "#Then I group by and count the number of points in each beat and join that to the beat dataset\n",
    "\n",
    "\n",
    "def join_to_beats(polygon_data, poly_unique_id, other_file, new_column_name):\n",
    "    '''\n",
    "    A function that creates a new beats gpd with an updated column \n",
    "        to count the number of points from the other_file \n",
    "    Inputs:\n",
    "        polygon_data (gpd): the beats gpd (as a polygon)\n",
    "        poly_unique_id (string): the unique identifier of the polygon spatial data\n",
    "        other_file (gpd): another point-based gpd. The number of points in each beat will \n",
    "                    be added to the beats as a new column\n",
    "        new_column_name (string): the name of the column to be added to the beats dataframe\n",
    "    Output:\n",
    "        the polygon_data dataframe updated with the new column\n",
    "    Note: .size suggestion from here: https://stackoverflow.com/questions/19384532/get-statistics-for-each-group-such-as-count-mean-etc-using-pandas-groupby\n",
    "    '''\n",
    "    spatial_join = gpd.sjoin(other_file, \n",
    "                             polygon_data[[poly_unique_id, \"geometry\"]], \n",
    "                             how=\"inner\", \n",
    "                             op='intersects')\n",
    "    count = spatial_join.groupby(poly_unique_id).size().reset_index(name=new_column_name)\n",
    "    updated_polygon_data = polygon_data.merge(count, on=poly_unique_id, how=\"left\")\n",
    "    updated_polygon_data[new_column_name].fillna(0, inplace=True)\n",
    "    return updated_polygon_data"
   ]
  },
  {
   "cell_type": "code",
   "execution_count": 71,
   "metadata": {},
   "outputs": [],
   "source": [
    "#Run above function to add point data to the beats\n",
    "#beats = join_to_beats(beats, \"beat_num\", l, \"count_l_stops\")\n",
    "#beats = join_to_beats(beats, \"beat_num\", bus, \"count_bus_stops\")\n",
    "#beats = join_to_beats(beats, \"beat_num\", metra, \"count_metra_stops\")\n",
    "#beats = join_to_beats(beats, \"beat_num\", rest, \"count_restaurants\")\n",
    "#beats = join_to_beats(beats, \"beat_num\", bar, \"count_bars\")\n",
    "#beats = join_to_beats(beats, \"beat_num\", daycare, \"count_daycares\")\n",
    "#beats = join_to_beats(beats, \"beat_num\", entertainment, \"count_entertainment\")\n",
    "#beats = join_to_beats(beats, \"beat_num\", business, \"count_businesses\")\n",
    "\n",
    "\n"
   ]
  },
  {
   "cell_type": "markdown",
   "metadata": {},
   "source": [
    "# Handle Street Data (to compute av street distance)"
   ]
  },
  {
   "cell_type": "code",
   "execution_count": 74,
   "metadata": {},
   "outputs": [],
   "source": [
    "#Filter Out non-pedestrian Streets (ie highways):\n",
    "#Syntax help: https://www.kite.com/python/answers/how-to-filter-a-pandas-dataframe-with-a-list-by-%60in%60-or-%60not-in%60-in-python\n",
    "\n",
    "#streets_do_not_want = [\"ER\", \"EXPY\", \"HWY\", \"PKWY\", \"ORD\", \"XR\", \"TOLL\"]\n",
    "#street_filter = ~streets.street_typ.isin(streets_do_not_want)\n",
    "#streets = streets[street_filter]"
   ]
  },
  {
   "cell_type": "code",
   "execution_count": 75,
   "metadata": {},
   "outputs": [],
   "source": [
    "#Spatial operation to get all strings into exactly one polygon\n",
    "#Help on overlay code here::https://stackoverflow.com/questions/60794994/geopandas-split-lines-at-intersection-with-polygons-retain-polygon-id-in-new\n",
    "#Help with renaming after groupby: https://stackoverflow.com/questions/44416287/renaming-columns-after-group-by-and-sum-in-pandas-dataframe\n",
    "\n",
    "#First: separate line segments so that they fall into exactly one police beat\n",
    "#Second: same spatial join as above\n",
    "#Third: Compute distance (in feet) of each segment\n",
    "#Fourth/Fifth: Keep only the beat_num and distance columns\n",
    "#Sixth:group by beat and sum all distances in the beat\n",
    "#seventh:Add the column with the summarized distances back to the beat dataset\n",
    "\n",
    "\n",
    "#streets_separated = gpd.overlay(streets, beats, how=\"union\", keep_geom_type=False).explode().reset_index(drop=True)\n",
    "#streets_separated = gpd.sjoin(streets_separated, \n",
    "#                             beats[[\"beat_num\", \"geometry\"]], \n",
    "#                             how=\"inner\", \n",
    "#                             op='intersects')\n",
    "#streets_separated[\"distance\"]= streets_separated[\"geometry\"].length\n",
    "#streets_separated = streets_separated[[\"beat_num_left\", \"distance\"]]\n",
    "#streets_separated.rename(columns={\"beat_num_left\":\"beat_num\"}, inplace=True)\n",
    "#streets_separated = streets_separated.groupby(\"beat_num\").sum(\"distance\").reset_index().rename(columns={'distance':'road_distance_ft'})\n",
    "#beats = beats.merge(streets_separated, how =\"left\", on=\"beat_num\")"
   ]
  },
  {
   "cell_type": "markdown",
   "metadata": {},
   "source": [
    "# Crosswalk for ACS Block data"
   ]
  },
  {
   "cell_type": "markdown",
   "metadata": {},
   "source": [
    "Goal of below section is to (1) create a crosswalk between blocks and beats and (2) use it to get total population (and maybe future data too) to the beat scale. \n",
    "\n",
    "The assumption is an equal distribution of population within a block which is obviously not a perfect assumption but super unreasonable either. I make this by subdividing the blocks to \"sub_blocks\" which are blocks divided by beats. That is, if a block is fully in a beat, the it remains the same as a sub_block. If a block is split into two beats, that block becomes two sub_blocks. I then compute the area of the sub_block/area of block (just 1 if the block is unsplit). Now, one can multiply this column by a population measure (ex Total population) and aggregate by block to estimate the measure by block. I write a function to do this."
   ]
  },
  {
   "cell_type": "code",
   "execution_count": 9,
   "metadata": {},
   "outputs": [
    {
     "name": "stdout",
     "output_type": "stream",
     "text": [
      "../raw_data/Boundaries - Census Blocks - 2010.geojson epsg:4326\n"
     ]
    }
   ],
   "source": [
    "blocks = read_spatial(\"../raw_data/Boundaries - Census Blocks - 2010.geojson\")"
   ]
  },
  {
   "cell_type": "code",
   "execution_count": 10,
   "metadata": {},
   "outputs": [],
   "source": [
    "#Create Crosswalk From Block to Beat:\n",
    "#Read Block spatial data and population by block\n",
    "#Then join the two\n",
    "pop_10 = pd.read_csv(\"../raw_data/Population_by_2010_Census_Block.csv\", \n",
    "                     dtype={\"CENSUS BLOCK FULL\":\"object\", \"CENSUS BLOCK\":\"object\"})\n",
    "blocks = blocks.merge(pop_10, left_on=\"geoid10\", right_on=\"CENSUS BLOCK FULL\", how=\"left\")"
   ]
  },
  {
   "cell_type": "code",
   "execution_count": 11,
   "metadata": {},
   "outputs": [
    {
     "data": {
      "text/plain": [
       "statefp10             0\n",
       "name10                0\n",
       "blockce10             0\n",
       "tract_bloc            0\n",
       "geoid10               0\n",
       "tractce10             0\n",
       "countyfp10            0\n",
       "geometry              0\n",
       "CENSUS BLOCK         20\n",
       "CENSUS BLOCK FULL    20\n",
       "TOTAL POPULATION     20\n",
       "dtype: int64"
      ]
     },
     "execution_count": 11,
     "metadata": {},
     "output_type": "execute_result"
    }
   ],
   "source": [
    "#Some data didn't match:\n",
    "blocks.isna().sum()"
   ]
  },
  {
   "cell_type": "code",
   "execution_count": 12,
   "metadata": {},
   "outputs": [
    {
     "data": {
      "text/plain": [
       "geoid10             0\n",
       "TOTAL POPULATION    0\n",
       "geometry            0\n",
       "dtype: int64"
      ]
     },
     "execution_count": 12,
     "metadata": {},
     "output_type": "execute_result"
    }
   ],
   "source": [
    "#Fill NA with the total average and select on population and id columns\n",
    "#Select only columns of interest: \n",
    "blocks = blocks[[\"geoid10\", \"TOTAL POPULATION\", \"geometry\"]]\n",
    "\n",
    "#Fill NAs: \n",
    "mean_pop = blocks[\"TOTAL POPULATION\"].mean()\n",
    "blocks.fillna(mean_pop, inplace=True)\n",
    "\n",
    "#Check nas filled:\n",
    "blocks.isna().sum()\n"
   ]
  },
  {
   "cell_type": "code",
   "execution_count": 13,
   "metadata": {},
   "outputs": [
    {
     "data": {
      "text/plain": [
       "(46357, 3)"
      ]
     },
     "execution_count": 13,
     "metadata": {},
     "output_type": "execute_result"
    }
   ],
   "source": [
    "blocks.shape"
   ]
  },
  {
   "cell_type": "code",
   "execution_count": 14,
   "metadata": {},
   "outputs": [
    {
     "name": "stderr",
     "output_type": "stream",
     "text": [
      "<ipython-input-14-dcefc52f8a81>:4: UserWarning: Geometry is in a geographic CRS. Results from 'area' are likely incorrect. Use 'GeoSeries.to_crs()' to re-project geometries to a projected CRS before this operation.\n",
      "\n",
      "  blocks[\"full_block_area\"]=blocks.area\n"
     ]
    }
   ],
   "source": [
    "#Get full block area and area within each beat:\n",
    "\n",
    "#Full block area\n",
    "blocks[\"full_block_area\"]=blocks.area\n",
    "\n",
    "#Subdivide to in each beat:\n",
    "blocks_exploded = gpd.overlay(blocks, beats, how=\"union\", keep_geom_type=False).explode().reset_index(drop=True)\n"
   ]
  },
  {
   "cell_type": "code",
   "execution_count": 15,
   "metadata": {},
   "outputs": [
    {
     "data": {
      "text/plain": [
       "geoid10                8823\n",
       "TOTAL POPULATION       8823\n",
       "full_block_area        8823\n",
       "beat                   9183\n",
       "beat_num               9183\n",
       "district               9183\n",
       "sector                 9183\n",
       "count_l_stops          9183\n",
       "count_bus_stops        9183\n",
       "count_metra_stops      9183\n",
       "count_restaurants      9183\n",
       "count_bars             9183\n",
       "count_daycares         9183\n",
       "count_entertainment    9183\n",
       "count_businesses       9183\n",
       "road_distance_ft       9183\n",
       "geometry                  0\n",
       "dtype: int64"
      ]
     },
     "execution_count": 15,
     "metadata": {},
     "output_type": "execute_result"
    }
   ],
   "source": [
    "#Note that there are a number of sub_blocks here too \n",
    "blocks_exploded.isna().sum()"
   ]
  },
  {
   "cell_type": "code",
   "execution_count": 16,
   "metadata": {},
   "outputs": [
    {
     "data": {
      "text/plain": [
       "(81119, 17)"
      ]
     },
     "execution_count": 16,
     "metadata": {},
     "output_type": "execute_result"
    }
   ],
   "source": [
    "blocks_exploded.shape"
   ]
  },
  {
   "cell_type": "code",
   "execution_count": 17,
   "metadata": {},
   "outputs": [],
   "source": [
    "blocks_exploded[\"na_geoid\"] = blocks_exploded[\"geoid10\"].isna()\n",
    "blocks_exploded[\"na_beat\"]=blocks_exploded[\"beat\"].isna()"
   ]
  },
  {
   "cell_type": "code",
   "execution_count": 18,
   "metadata": {},
   "outputs": [
    {
     "data": {
      "text/plain": [
       "<AxesSubplot:>"
      ]
     },
     "execution_count": 18,
     "metadata": {},
     "output_type": "execute_result"
    },
    {
     "data": {
      "image/png": "[encoded data removed]",
      "text/plain": [
       "<Figure size 432x288 with 1 Axes>"
      ]
     },
     "metadata": {
      "needs_background": "light"
     },
     "output_type": "display_data"
    }
   ],
   "source": [
    "#blocks_exploded.plot(column=\"na_geoid\")"
   ]
  },
  {
   "cell_type": "code",
   "execution_count": 19,
   "metadata": {},
   "outputs": [
    {
     "data": {
      "text/plain": [
       "<AxesSubplot:>"
      ]
     },
     "execution_count": 19,
     "metadata": {},
     "output_type": "execute_result"
    },
    {
     "data": {
      "image/png": "[encoded data removed]",
      "text/plain": [
       "<Figure size 432x288 with 1 Axes>"
      ]
     },
     "metadata": {
      "needs_background": "light"
     },
     "output_type": "display_data"
    }
   ],
   "source": [
    "#blocks_exploded.plot(column=\"na_beat\")"
   ]
  },
  {
   "cell_type": "markdown",
   "metadata": {},
   "source": [
    "Location of missing data: Some tracts are missing beat data if they are actually in Lake Michigan. Some beats are missing tract data if they are on the edges of Chicago (ie part of O'Hare or Norridge/Harrwood Heights). \n",
    "\n",
    "Solution: I throw all of this data out: we are looking for Chicago Police beats and these do not quality"
   ]
  },
  {
   "cell_type": "code",
   "execution_count": 20,
   "metadata": {},
   "outputs": [],
   "source": [
    "blocks_exploded = blocks_exploded.dropna()"
   ]
  },
  {
   "cell_type": "code",
   "execution_count": 21,
   "metadata": {},
   "outputs": [
    {
     "name": "stderr",
     "output_type": "stream",
     "text": [
      "<ipython-input-21-005d56ed7fab>:2: UserWarning: Geometry is in a geographic CRS. Results from 'area' are likely incorrect. Use 'GeoSeries.to_crs()' to re-project geometries to a projected CRS before this operation.\n",
      "\n",
      "  blocks_exploded[\"sub_block_area\"]=blocks_exploded.area\n",
      "/opt/anaconda3/lib/python3.8/site-packages/geopandas/geodataframe.py:1322: SettingWithCopyWarning: \n",
      "A value is trying to be set on a copy of a slice from a DataFrame.\n",
      "Try using .loc[row_indexer,col_indexer] = value instead\n",
      "\n",
      "See the caveats in the documentation: https://pandas.pydata.org/pandas-docs/stable/user_guide/indexing.html#returning-a-view-versus-a-copy\n",
      "  super(GeoDataFrame, self).__setitem__(key, value)\n"
     ]
    }
   ],
   "source": [
    "#Area of sub-block:\n",
    "blocks_exploded[\"sub_block_area\"]=blocks_exploded.area\n",
    "#Percentage of area of full block:\n",
    "blocks_exploded[\"pct_of_full_block\"]=blocks_exploded[\"sub_block_area\"]/blocks_exploded[\"full_block_area\"]"
   ]
  },
  {
   "cell_type": "code",
   "execution_count": 22,
   "metadata": {},
   "outputs": [],
   "source": [
    "conversion_df = blocks_exploded[[\"geoid10\", \"beat_num\", \"pct_of_full_block\"]]"
   ]
  },
  {
   "cell_type": "code",
   "execution_count": 23,
   "metadata": {},
   "outputs": [],
   "source": [
    "def convert_block_to_beat(df_at_block, col_name):\n",
    "    '''\n",
    "    Function that converts data at the 2010 block scale to the Chicago beat scale \n",
    "    Note that this excludes census tracts not in beats as well as beats outside of Chicago prop\n",
    "    Inputs:\n",
    "        df_at_block(df): dataframe at the Chicago 2010 block scale\n",
    "            Note: this df must have blocks identified with column geoid10\n",
    "        col_name (string): the column of data to be converted to the beat scale\n",
    "    Output:\n",
    "        beats(df): the previous beats dataframe but with a new column for the aggregated data added\n",
    "    '''\n",
    "    df_at_block=df_at_block[[\"geoid10\", col_name]]\n",
    "    block_df = pd.merge(conversion_df, df_at_block, how=\"left\", on=\"geoid10\")\n",
    "    block_df[col_name]=block_df[\"pct_of_full_block\"] * block_df[col_name]\n",
    "    \n",
    "    beats_df = block_df.groupby(\"beat_num\").agg({col_name:\"sum\"})\n",
    "    beats2 = pd.merge(beats, beats_df, how = \"left\", on = \"beat_num\")\n",
    "    return beats2"
   ]
  },
  {
   "cell_type": "code",
   "execution_count": 24,
   "metadata": {},
   "outputs": [
    {
     "data": {
      "text/html": [
       "<div>\n",
       "<style scoped>\n",
       "    .dataframe tbody tr th:only-of-type {\n",
       "        vertical-align: middle;\n",
       "    }\n",
       "\n",
       "    .dataframe tbody tr th {\n",
       "        vertical-align: top;\n",
       "    }\n",
       "\n",
       "    .dataframe thead th {\n",
       "        text-align: right;\n",
       "    }\n",
       "</style>\n",
       "<table border=\"1\" class=\"dataframe\">\n",
       "  <thead>\n",
       "    <tr style=\"text-align: right;\">\n",
       "      <th></th>\n",
       "      <th>beat</th>\n",
       "      <th>beat_num</th>\n",
       "      <th>district</th>\n",
       "      <th>sector</th>\n",
       "      <th>geometry</th>\n",
       "      <th>count_l_stops</th>\n",
       "      <th>count_bus_stops</th>\n",
       "      <th>count_metra_stops</th>\n",
       "      <th>count_restaurants</th>\n",
       "      <th>count_bars</th>\n",
       "      <th>count_daycares</th>\n",
       "      <th>count_entertainment</th>\n",
       "      <th>count_businesses</th>\n",
       "      <th>road_distance_ft</th>\n",
       "      <th>TOTAL POPULATION</th>\n",
       "    </tr>\n",
       "  </thead>\n",
       "  <tbody>\n",
       "    <tr>\n",
       "      <th>0</th>\n",
       "      <td>1</td>\n",
       "      <td>1713</td>\n",
       "      <td>17</td>\n",
       "      <td>1</td>\n",
       "      <td>MULTIPOLYGON (((-87.70473 41.97577, -87.70472 ...</td>\n",
       "      <td>3.0</td>\n",
       "      <td>26.0</td>\n",
       "      <td>0.0</td>\n",
       "      <td>63.0</td>\n",
       "      <td>9.0</td>\n",
       "      <td>6.0</td>\n",
       "      <td>1.0</td>\n",
       "      <td>92.0</td>\n",
       "      <td>0.548141</td>\n",
       "      <td>13283.675102</td>\n",
       "    </tr>\n",
       "    <tr>\n",
       "      <th>1</th>\n",
       "      <td>0</td>\n",
       "      <td>3100</td>\n",
       "      <td>31</td>\n",
       "      <td>0</td>\n",
       "      <td>MULTIPOLYGON (((-87.83365 41.97535, -87.83366 ...</td>\n",
       "      <td>0.0</td>\n",
       "      <td>93.0</td>\n",
       "      <td>0.0</td>\n",
       "      <td>0.0</td>\n",
       "      <td>0.0</td>\n",
       "      <td>0.0</td>\n",
       "      <td>0.0</td>\n",
       "      <td>0.0</td>\n",
       "      <td>1.616425</td>\n",
       "      <td>132.169445</td>\n",
       "    </tr>\n",
       "    <tr>\n",
       "      <th>2</th>\n",
       "      <td>5</td>\n",
       "      <td>1651</td>\n",
       "      <td>16</td>\n",
       "      <td>5</td>\n",
       "      <td>MULTIPOLYGON (((-87.90684 41.97656, -87.91070 ...</td>\n",
       "      <td>0.0</td>\n",
       "      <td>0.0</td>\n",
       "      <td>0.0</td>\n",
       "      <td>0.0</td>\n",
       "      <td>0.0</td>\n",
       "      <td>0.0</td>\n",
       "      <td>0.0</td>\n",
       "      <td>0.0</td>\n",
       "      <td>0.076889</td>\n",
       "      <td>0.000000</td>\n",
       "    </tr>\n",
       "    <tr>\n",
       "      <th>3</th>\n",
       "      <td>1</td>\n",
       "      <td>1914</td>\n",
       "      <td>19</td>\n",
       "      <td>1</td>\n",
       "      <td>MULTIPOLYGON (((-87.64492 41.96973, -87.64431 ...</td>\n",
       "      <td>0.0</td>\n",
       "      <td>43.0</td>\n",
       "      <td>0.0</td>\n",
       "      <td>48.0</td>\n",
       "      <td>6.0</td>\n",
       "      <td>4.0</td>\n",
       "      <td>3.0</td>\n",
       "      <td>76.0</td>\n",
       "      <td>0.411940</td>\n",
       "      <td>10907.560081</td>\n",
       "    </tr>\n",
       "    <tr>\n",
       "      <th>4</th>\n",
       "      <td>1</td>\n",
       "      <td>1915</td>\n",
       "      <td>19</td>\n",
       "      <td>1</td>\n",
       "      <td>MULTIPOLYGON (((-87.63724 41.96599, -87.63644 ...</td>\n",
       "      <td>0.0</td>\n",
       "      <td>44.0</td>\n",
       "      <td>0.0</td>\n",
       "      <td>25.0</td>\n",
       "      <td>5.0</td>\n",
       "      <td>2.0</td>\n",
       "      <td>2.0</td>\n",
       "      <td>53.0</td>\n",
       "      <td>0.834758</td>\n",
       "      <td>12773.552922</td>\n",
       "    </tr>\n",
       "    <tr>\n",
       "      <th>...</th>\n",
       "      <td>...</td>\n",
       "      <td>...</td>\n",
       "      <td>...</td>\n",
       "      <td>...</td>\n",
       "      <td>...</td>\n",
       "      <td>...</td>\n",
       "      <td>...</td>\n",
       "      <td>...</td>\n",
       "      <td>...</td>\n",
       "      <td>...</td>\n",
       "      <td>...</td>\n",
       "      <td>...</td>\n",
       "      <td>...</td>\n",
       "      <td>...</td>\n",
       "      <td>...</td>\n",
       "    </tr>\n",
       "    <tr>\n",
       "      <th>272</th>\n",
       "      <td>1</td>\n",
       "      <td>0314</td>\n",
       "      <td>03</td>\n",
       "      <td>1</td>\n",
       "      <td>MULTIPOLYGON (((-87.58879 41.78612, -87.58844 ...</td>\n",
       "      <td>0.0</td>\n",
       "      <td>32.0</td>\n",
       "      <td>1.0</td>\n",
       "      <td>4.0</td>\n",
       "      <td>0.0</td>\n",
       "      <td>2.0</td>\n",
       "      <td>0.0</td>\n",
       "      <td>31.0</td>\n",
       "      <td>0.472742</td>\n",
       "      <td>6933.307154</td>\n",
       "    </tr>\n",
       "    <tr>\n",
       "      <th>273</th>\n",
       "      <td>2</td>\n",
       "      <td>0825</td>\n",
       "      <td>08</td>\n",
       "      <td>2</td>\n",
       "      <td>MULTIPOLYGON (((-87.67917 41.78656, -87.67912 ...</td>\n",
       "      <td>0.0</td>\n",
       "      <td>24.0</td>\n",
       "      <td>0.0</td>\n",
       "      <td>25.0</td>\n",
       "      <td>1.0</td>\n",
       "      <td>1.0</td>\n",
       "      <td>0.0</td>\n",
       "      <td>44.0</td>\n",
       "      <td>0.590103</td>\n",
       "      <td>7765.801695</td>\n",
       "    </tr>\n",
       "    <tr>\n",
       "      <th>274</th>\n",
       "      <td>1</td>\n",
       "      <td>0313</td>\n",
       "      <td>03</td>\n",
       "      <td>1</td>\n",
       "      <td>MULTIPOLYGON (((-87.60854 41.78583, -87.60808 ...</td>\n",
       "      <td>0.0</td>\n",
       "      <td>29.0</td>\n",
       "      <td>0.0</td>\n",
       "      <td>11.0</td>\n",
       "      <td>0.0</td>\n",
       "      <td>3.0</td>\n",
       "      <td>0.0</td>\n",
       "      <td>26.0</td>\n",
       "      <td>0.410752</td>\n",
       "      <td>5786.813143</td>\n",
       "    </tr>\n",
       "    <tr>\n",
       "      <th>275</th>\n",
       "      <td>2</td>\n",
       "      <td>0823</td>\n",
       "      <td>08</td>\n",
       "      <td>2</td>\n",
       "      <td>MULTIPOLYGON (((-87.69354 41.78458, -87.69354 ...</td>\n",
       "      <td>0.0</td>\n",
       "      <td>46.0</td>\n",
       "      <td>0.0</td>\n",
       "      <td>68.0</td>\n",
       "      <td>6.0</td>\n",
       "      <td>6.0</td>\n",
       "      <td>0.0</td>\n",
       "      <td>135.0</td>\n",
       "      <td>0.977021</td>\n",
       "      <td>22290.925452</td>\n",
       "    </tr>\n",
       "    <tr>\n",
       "      <th>276</th>\n",
       "      <td>1</td>\n",
       "      <td>0312</td>\n",
       "      <td>03</td>\n",
       "      <td>1</td>\n",
       "      <td>MULTIPOLYGON (((-87.60431 41.78043, -87.60400 ...</td>\n",
       "      <td>2.0</td>\n",
       "      <td>32.0</td>\n",
       "      <td>0.0</td>\n",
       "      <td>14.0</td>\n",
       "      <td>1.0</td>\n",
       "      <td>3.0</td>\n",
       "      <td>1.0</td>\n",
       "      <td>38.0</td>\n",
       "      <td>0.674669</td>\n",
       "      <td>4144.689634</td>\n",
       "    </tr>\n",
       "  </tbody>\n",
       "</table>\n",
       "<p>277 rows × 15 columns</p>\n",
       "</div>"
      ],
      "text/plain": [
       "    beat beat_num district sector  \\\n",
       "0      1     1713       17      1   \n",
       "1      0     3100       31      0   \n",
       "2      5     1651       16      5   \n",
       "3      1     1914       19      1   \n",
       "4      1     1915       19      1   \n",
       "..   ...      ...      ...    ...   \n",
       "272    1     0314       03      1   \n",
       "273    2     0825       08      2   \n",
       "274    1     0313       03      1   \n",
       "275    2     0823       08      2   \n",
       "276    1     0312       03      1   \n",
       "\n",
       "                                              geometry  count_l_stops  \\\n",
       "0    MULTIPOLYGON (((-87.70473 41.97577, -87.70472 ...            3.0   \n",
       "1    MULTIPOLYGON (((-87.83365 41.97535, -87.83366 ...            0.0   \n",
       "2    MULTIPOLYGON (((-87.90684 41.97656, -87.91070 ...            0.0   \n",
       "3    MULTIPOLYGON (((-87.64492 41.96973, -87.64431 ...            0.0   \n",
       "4    MULTIPOLYGON (((-87.63724 41.96599, -87.63644 ...            0.0   \n",
       "..                                                 ...            ...   \n",
       "272  MULTIPOLYGON (((-87.58879 41.78612, -87.58844 ...            0.0   \n",
       "273  MULTIPOLYGON (((-87.67917 41.78656, -87.67912 ...            0.0   \n",
       "274  MULTIPOLYGON (((-87.60854 41.78583, -87.60808 ...            0.0   \n",
       "275  MULTIPOLYGON (((-87.69354 41.78458, -87.69354 ...            0.0   \n",
       "276  MULTIPOLYGON (((-87.60431 41.78043, -87.60400 ...            2.0   \n",
       "\n",
       "     count_bus_stops  count_metra_stops  count_restaurants  count_bars  \\\n",
       "0               26.0                0.0               63.0         9.0   \n",
       "1               93.0                0.0                0.0         0.0   \n",
       "2                0.0                0.0                0.0         0.0   \n",
       "3               43.0                0.0               48.0         6.0   \n",
       "4               44.0                0.0               25.0         5.0   \n",
       "..               ...                ...                ...         ...   \n",
       "272             32.0                1.0                4.0         0.0   \n",
       "273             24.0                0.0               25.0         1.0   \n",
       "274             29.0                0.0               11.0         0.0   \n",
       "275             46.0                0.0               68.0         6.0   \n",
       "276             32.0                0.0               14.0         1.0   \n",
       "\n",
       "     count_daycares  count_entertainment  count_businesses  road_distance_ft  \\\n",
       "0               6.0                  1.0              92.0          0.548141   \n",
       "1               0.0                  0.0               0.0          1.616425   \n",
       "2               0.0                  0.0               0.0          0.076889   \n",
       "3               4.0                  3.0              76.0          0.411940   \n",
       "4               2.0                  2.0              53.0          0.834758   \n",
       "..              ...                  ...               ...               ...   \n",
       "272             2.0                  0.0              31.0          0.472742   \n",
       "273             1.0                  0.0              44.0          0.590103   \n",
       "274             3.0                  0.0              26.0          0.410752   \n",
       "275             6.0                  0.0             135.0          0.977021   \n",
       "276             3.0                  1.0              38.0          0.674669   \n",
       "\n",
       "     TOTAL POPULATION  \n",
       "0        13283.675102  \n",
       "1          132.169445  \n",
       "2            0.000000  \n",
       "3        10907.560081  \n",
       "4        12773.552922  \n",
       "..                ...  \n",
       "272       6933.307154  \n",
       "273       7765.801695  \n",
       "274       5786.813143  \n",
       "275      22290.925452  \n",
       "276       4144.689634  \n",
       "\n",
       "[277 rows x 15 columns]"
      ]
     },
     "execution_count": 24,
     "metadata": {},
     "output_type": "execute_result"
    }
   ],
   "source": [
    "#beats = convert_block_to_beat(blocks, \"TOTAL POPULATION\")\n",
    "#beats"
   ]
  },
  {
   "cell_type": "code",
   "execution_count": 25,
   "metadata": {},
   "outputs": [
    {
     "data": {
      "text/plain": [
       "<AxesSubplot:>"
      ]
     },
     "execution_count": 25,
     "metadata": {},
     "output_type": "execute_result"
    },
    {
     "data": {
      "image/png": "[encoded data removed]",
      "text/plain": [
       "<Figure size 432x288 with 1 Axes>"
      ]
     },
     "metadata": {
      "needs_background": "light"
     },
     "output_type": "display_data"
    }
   ],
   "source": [
    "#beats.plot(column=\"TOTAL POPULATION\")"
   ]
  },
  {
   "cell_type": "code",
   "execution_count": 26,
   "metadata": {},
   "outputs": [
    {
     "name": "stdout",
     "output_type": "stream",
     "text": [
      "../raw_data/PoliceStationsDec2012 EPSG:4326\n",
      "../raw_data/Hospitals EPSG:4326\n"
     ]
    },
    {
     "name": "stderr",
     "output_type": "stream",
     "text": [
      "<ipython-input-26-1cbcd8b55ff4>:6: UserWarning: Geometry is in a geographic CRS. Results from 'centroid' are likely incorrect. Use 'GeoSeries.to_crs()' to re-project geometries to a projected CRS before this operation.\n",
      "\n",
      "  beats[\"centroid\"]=beats.centroid\n"
     ]
    }
   ],
   "source": [
    "#Calculate distance to nearest police station/hospital:\n",
    "\n",
    "#police_station = read_spatial(\"../raw_data/PoliceStationsDec2012\")\n",
    "#hospital = read_spatial(\"../raw_data/Hospitals\")\n",
    "#beats[\"centroid\"]=beats.centroid\n",
    "\n",
    "#shapely.ops.nearest_points(beats_cent, police_station)"
   ]
  },
  {
   "cell_type": "markdown",
   "metadata": {},
   "source": [
    "# Distance to Nearest Point: "
   ]
  },
  {
   "cell_type": "code",
   "execution_count": 27,
   "metadata": {},
   "outputs": [
    {
     "name": "stderr",
     "output_type": "stream",
     "text": [
      "<ipython-input-27-e23420be08c8>:9: UserWarning: Geometry is in a geographic CRS. Results from 'distance' are likely incorrect. Use 'GeoSeries.to_crs()' to re-project geometries to a projected CRS before this operation.\n",
      "\n",
      "  dist = df1[geom_col_df1].apply(lambda g: df2.distance(g))\n",
      "<ipython-input-27-e23420be08c8>:9: UserWarning: Geometry is in a geographic CRS. Results from 'distance' are likely incorrect. Use 'GeoSeries.to_crs()' to re-project geometries to a projected CRS before this operation.\n",
      "\n",
      "  dist = df1[geom_col_df1].apply(lambda g: df2.distance(g))\n"
     ]
    }
   ],
   "source": [
    "def dist_to_nearest(df1, df2, geom_col_df1, df1_new_col_name):\n",
    "    '''\n",
    "    calculates the distance from the points in df1 to nearest point in df2\n",
    "    df1: point geodataframe\n",
    "    df2: point geodataframe\n",
    "    \n",
    "    \n",
    "    '''\n",
    "    dist = df1[geom_col_df1].apply(lambda g: df2.distance(g))\n",
    "    df1[df1_new_col_name] = dist.min(axis=1)\n",
    "    return df1\n"
   ]
  },
  {
   "cell_type": "code",
   "execution_count": null,
   "metadata": {},
   "outputs": [],
   "source": [
    "#beats = dist_to_nearest(beats, police_station, \"centroid\", \"dist_to_police\")\n",
    "#beats = dist_to_nearest(beats, hospital, \"centroid\", \"dist_to_hospital\")"
   ]
  },
  {
   "cell_type": "markdown",
   "metadata": {},
   "source": [
    "# Spatial Lag:"
   ]
  },
  {
   "cell_type": "code",
   "execution_count": 63,
   "metadata": {},
   "outputs": [],
   "source": [
    "import libpysal as lp\n",
    "\n",
    "def compute_spatial_lag(gpd, column, new_col_name, time_indentifier):\n",
    "    '''\n",
    "    Creates a new column in the dataframe that calculates the spatial lag\n",
    "    Spatial lag defined as the average of the neighbors\n",
    "    Neighbors are defined using first order queen contiguity\n",
    "    \n",
    "    Inputs:\n",
    "        gpd - a geopandas dataframe\n",
    "        column - the column on which to great the spatial lag\n",
    "        new_col_name - the name of the spatial lag column\n",
    "        time-identifier - a column that identifies the time periods in the data\n",
    "    Ouput:\n",
    "        gpd - the updated dataframe with the new columns\n",
    "    \n",
    "    '''\n",
    "    times = list(gpd[time_indentifier].unique())\n",
    "    \n",
    "    all_time_gpds = []\n",
    "    for time in times:\n",
    "        gpd_one_period = gpd.loc[gpd[time_indentifier]==time]\n",
    "        weights_matrix = lp.weights.Queen.from_dataframe(gpd_one_period)\n",
    "        weights_matrix.transform = \"r\"\n",
    "        data_series = gpd_one_period[column]\n",
    "        gpd_one_period[new_col_name] = lp.weights.lag_spatial(weights_matrix, gpd_one_period[column])\n",
    "        all_time_gpds.append(gpd_one_period)\n",
    "        \n",
    "    gpd = pd.concat(all_time_gpds, axis=0)\n",
    "    \n",
    "    return gpd"
   ]
  },
  {
   "cell_type": "markdown",
   "metadata": {},
   "source": [
    "# Writing Data: "
   ]
  },
  {
   "cell_type": "code",
   "execution_count": 32,
   "metadata": {},
   "outputs": [
    {
     "data": {
      "text/html": [
       "<div>\n",
       "<style scoped>\n",
       "    .dataframe tbody tr th:only-of-type {\n",
       "        vertical-align: middle;\n",
       "    }\n",
       "\n",
       "    .dataframe tbody tr th {\n",
       "        vertical-align: top;\n",
       "    }\n",
       "\n",
       "    .dataframe thead th {\n",
       "        text-align: right;\n",
       "    }\n",
       "</style>\n",
       "<table border=\"1\" class=\"dataframe\">\n",
       "  <thead>\n",
       "    <tr style=\"text-align: right;\">\n",
       "      <th></th>\n",
       "      <th>beat</th>\n",
       "      <th>beat_num</th>\n",
       "      <th>district</th>\n",
       "      <th>sector</th>\n",
       "      <th>count_l_stops</th>\n",
       "      <th>count_bus_stops</th>\n",
       "      <th>count_metra_stops</th>\n",
       "      <th>count_restaurants</th>\n",
       "      <th>count_bars</th>\n",
       "      <th>count_daycares</th>\n",
       "      <th>count_entertainment</th>\n",
       "      <th>count_businesses</th>\n",
       "      <th>road_distance_ft</th>\n",
       "      <th>TOTAL POPULATION</th>\n",
       "      <th>dist_to_police</th>\n",
       "      <th>dist_to_hospital</th>\n",
       "    </tr>\n",
       "  </thead>\n",
       "  <tbody>\n",
       "    <tr>\n",
       "      <th>0</th>\n",
       "      <td>1</td>\n",
       "      <td>1713</td>\n",
       "      <td>17</td>\n",
       "      <td>1</td>\n",
       "      <td>3.0</td>\n",
       "      <td>26.0</td>\n",
       "      <td>0.0</td>\n",
       "      <td>63.0</td>\n",
       "      <td>9.0</td>\n",
       "      <td>6.0</td>\n",
       "      <td>1.0</td>\n",
       "      <td>92.0</td>\n",
       "      <td>0.548141</td>\n",
       "      <td>13283.675102</td>\n",
       "      <td>0.017748</td>\n",
       "      <td>0.010953</td>\n",
       "    </tr>\n",
       "    <tr>\n",
       "      <th>1</th>\n",
       "      <td>0</td>\n",
       "      <td>3100</td>\n",
       "      <td>31</td>\n",
       "      <td>0</td>\n",
       "      <td>0.0</td>\n",
       "      <td>93.0</td>\n",
       "      <td>0.0</td>\n",
       "      <td>0.0</td>\n",
       "      <td>0.0</td>\n",
       "      <td>0.0</td>\n",
       "      <td>0.0</td>\n",
       "      <td>0.0</td>\n",
       "      <td>1.616425</td>\n",
       "      <td>132.169445</td>\n",
       "      <td>0.051751</td>\n",
       "      <td>0.018712</td>\n",
       "    </tr>\n",
       "    <tr>\n",
       "      <th>2</th>\n",
       "      <td>5</td>\n",
       "      <td>1651</td>\n",
       "      <td>16</td>\n",
       "      <td>5</td>\n",
       "      <td>0.0</td>\n",
       "      <td>0.0</td>\n",
       "      <td>0.0</td>\n",
       "      <td>0.0</td>\n",
       "      <td>0.0</td>\n",
       "      <td>0.0</td>\n",
       "      <td>0.0</td>\n",
       "      <td>0.0</td>\n",
       "      <td>0.076889</td>\n",
       "      <td>0.000000</td>\n",
       "      <td>0.142355</td>\n",
       "      <td>0.094884</td>\n",
       "    </tr>\n",
       "    <tr>\n",
       "      <th>3</th>\n",
       "      <td>1</td>\n",
       "      <td>1914</td>\n",
       "      <td>19</td>\n",
       "      <td>1</td>\n",
       "      <td>0.0</td>\n",
       "      <td>43.0</td>\n",
       "      <td>0.0</td>\n",
       "      <td>48.0</td>\n",
       "      <td>6.0</td>\n",
       "      <td>4.0</td>\n",
       "      <td>3.0</td>\n",
       "      <td>76.0</td>\n",
       "      <td>0.411940</td>\n",
       "      <td>10907.560081</td>\n",
       "      <td>0.018273</td>\n",
       "      <td>0.001523</td>\n",
       "    </tr>\n",
       "    <tr>\n",
       "      <th>4</th>\n",
       "      <td>1</td>\n",
       "      <td>1915</td>\n",
       "      <td>19</td>\n",
       "      <td>1</td>\n",
       "      <td>0.0</td>\n",
       "      <td>44.0</td>\n",
       "      <td>0.0</td>\n",
       "      <td>25.0</td>\n",
       "      <td>5.0</td>\n",
       "      <td>2.0</td>\n",
       "      <td>2.0</td>\n",
       "      <td>53.0</td>\n",
       "      <td>0.834758</td>\n",
       "      <td>12773.552922</td>\n",
       "      <td>0.011512</td>\n",
       "      <td>0.004187</td>\n",
       "    </tr>\n",
       "  </tbody>\n",
       "</table>\n",
       "</div>"
      ],
      "text/plain": [
       "  beat beat_num district sector  count_l_stops  count_bus_stops  \\\n",
       "0    1     1713       17      1            3.0             26.0   \n",
       "1    0     3100       31      0            0.0             93.0   \n",
       "2    5     1651       16      5            0.0              0.0   \n",
       "3    1     1914       19      1            0.0             43.0   \n",
       "4    1     1915       19      1            0.0             44.0   \n",
       "\n",
       "   count_metra_stops  count_restaurants  count_bars  count_daycares  \\\n",
       "0                0.0               63.0         9.0             6.0   \n",
       "1                0.0                0.0         0.0             0.0   \n",
       "2                0.0                0.0         0.0             0.0   \n",
       "3                0.0               48.0         6.0             4.0   \n",
       "4                0.0               25.0         5.0             2.0   \n",
       "\n",
       "   count_entertainment  count_businesses  road_distance_ft  TOTAL POPULATION  \\\n",
       "0                  1.0              92.0          0.548141      13283.675102   \n",
       "1                  0.0               0.0          1.616425        132.169445   \n",
       "2                  0.0               0.0          0.076889          0.000000   \n",
       "3                  3.0              76.0          0.411940      10907.560081   \n",
       "4                  2.0              53.0          0.834758      12773.552922   \n",
       "\n",
       "   dist_to_police  dist_to_hospital  \n",
       "0        0.017748          0.010953  \n",
       "1        0.051751          0.018712  \n",
       "2        0.142355          0.094884  \n",
       "3        0.018273          0.001523  \n",
       "4        0.011512          0.004187  "
      ]
     },
     "execution_count": 32,
     "metadata": {},
     "output_type": "execute_result"
    }
   ],
   "source": [
    "#beats.columns\n",
    "#beats_to_write = beats[['beat', 'beat_num', 'district', 'sector', 'count_l_stops',\n",
    "#                'count_bus_stops', 'count_metra_stops', 'count_restaurants',\n",
    "#       'count_bars', 'count_daycares', 'count_entertainment',\n",
    "#       'count_businesses', 'road_distance_ft', 'TOTAL POPULATION',\n",
    "#       'dist_to_police', 'dist_to_hospital']]\n",
    "\n",
    "#beats_to_write.head(5)"
   ]
  },
  {
   "cell_type": "code",
   "execution_count": 78,
   "metadata": {},
   "outputs": [],
   "source": [
    "#beats.to_file(\"../intermediate_data/beats.geojson\", driver='GeoJSON')\n",
    "#beats_to_write.to_csv(\"../intermediate_data/beats.csv\")\n"
   ]
  },
  {
   "cell_type": "code",
   "execution_count": null,
   "metadata": {},
   "outputs": [],
   "source": []
  }
 ],
 "metadata": {
  "kernelspec": {
   "display_name": "Python 3",
   "language": "python",
   "name": "python3"
  },
  "language_info": {
   "codemirror_mode": {
    "name": "ipython",
    "version": 3
   },
   "file_extension": ".py",
   "mimetype": "text/x-python",
   "name": "python",
   "nbconvert_exporter": "python",
   "pygments_lexer": "ipython3",
   "version": "3.8.5"
  }
 },
 "nbformat": 4,
 "nbformat_minor": 4
}
